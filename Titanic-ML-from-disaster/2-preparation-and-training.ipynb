{
 "cells": [
  {
   "cell_type": "markdown",
   "metadata": {},
   "source": [
    "# Titanic: Machine Learning from Disaster\n",
    "\n",
    "The Titanic Kaggle competition can be found [at this link](https://www.kaggle.com/c/titanic/overview).\n",
    "\n",
    " - [Feature engineering](#Feature-engineering)\n",
    " - [Checking for correlations](#Checking-for-correlations)\n",
    " - [Model pipeline](#Model-pipeline)\n",
    " - [Grid search](#Grid-search)\n",
    "   - [Support vector classifier](#Support-vector-classifier)\n",
    "   - [Logistic regression](#Logistic-regression)\n",
    "   - [Randomized grid search](#Randomized-grid-search)"
   ]
  },
  {
   "cell_type": "code",
   "execution_count": 1,
   "metadata": {},
   "outputs": [],
   "source": [
    "import pandas as pd\n",
    "import numpy as np\n",
    "import matplotlib.pyplot as plt\n",
    "%matplotlib notebook"
   ]
  },
  {
   "cell_type": "code",
   "execution_count": 2,
   "metadata": {},
   "outputs": [],
   "source": [
    "pd.set_option('display.max_columns', None)\n",
    "pd.set_option('display.max_colwidth', -1)"
   ]
  },
  {
   "cell_type": "code",
   "execution_count": 3,
   "metadata": {},
   "outputs": [],
   "source": [
    "train_df = pd.read_csv('data/train.csv', na_values='NaN', index_col='PassengerId')\n",
    "test_df = pd.read_csv('data/test.csv', na_values='NaN', index_col='PassengerId')"
   ]
  },
  {
   "cell_type": "code",
   "execution_count": 4,
   "metadata": {},
   "outputs": [
    {
     "name": "stdout",
     "output_type": "stream",
     "text": [
      "<class 'pandas.core.frame.DataFrame'>\n",
      "Int64Index: 891 entries, 1 to 891\n",
      "Data columns (total 11 columns):\n",
      "Survived    891 non-null int64\n",
      "Pclass      891 non-null int64\n",
      "Name        891 non-null object\n",
      "Sex         891 non-null object\n",
      "Age         714 non-null float64\n",
      "SibSp       891 non-null int64\n",
      "Parch       891 non-null int64\n",
      "Ticket      891 non-null object\n",
      "Fare        891 non-null float64\n",
      "Cabin       204 non-null object\n",
      "Embarked    889 non-null object\n",
      "dtypes: float64(2), int64(4), object(5)\n",
      "memory usage: 83.5+ KB\n"
     ]
    }
   ],
   "source": [
    "train_df.info()"
   ]
  },
  {
   "cell_type": "code",
   "execution_count": 5,
   "metadata": {},
   "outputs": [
    {
     "data": {
      "text/html": [
       "<div>\n",
       "<style scoped>\n",
       "    .dataframe tbody tr th:only-of-type {\n",
       "        vertical-align: middle;\n",
       "    }\n",
       "\n",
       "    .dataframe tbody tr th {\n",
       "        vertical-align: top;\n",
       "    }\n",
       "\n",
       "    .dataframe thead th {\n",
       "        text-align: right;\n",
       "    }\n",
       "</style>\n",
       "<table border=\"1\" class=\"dataframe\">\n",
       "  <thead>\n",
       "    <tr style=\"text-align: right;\">\n",
       "      <th></th>\n",
       "      <th>Survived</th>\n",
       "      <th>Pclass</th>\n",
       "      <th>Age</th>\n",
       "      <th>SibSp</th>\n",
       "      <th>Parch</th>\n",
       "      <th>Fare</th>\n",
       "    </tr>\n",
       "  </thead>\n",
       "  <tbody>\n",
       "    <tr>\n",
       "      <th>count</th>\n",
       "      <td>891.00</td>\n",
       "      <td>891.00</td>\n",
       "      <td>714.00</td>\n",
       "      <td>891.00</td>\n",
       "      <td>891.00</td>\n",
       "      <td>891.00</td>\n",
       "    </tr>\n",
       "    <tr>\n",
       "      <th>mean</th>\n",
       "      <td>0.38</td>\n",
       "      <td>2.31</td>\n",
       "      <td>29.70</td>\n",
       "      <td>0.52</td>\n",
       "      <td>0.38</td>\n",
       "      <td>32.20</td>\n",
       "    </tr>\n",
       "    <tr>\n",
       "      <th>std</th>\n",
       "      <td>0.49</td>\n",
       "      <td>0.84</td>\n",
       "      <td>14.53</td>\n",
       "      <td>1.10</td>\n",
       "      <td>0.81</td>\n",
       "      <td>49.69</td>\n",
       "    </tr>\n",
       "    <tr>\n",
       "      <th>min</th>\n",
       "      <td>0.00</td>\n",
       "      <td>1.00</td>\n",
       "      <td>0.42</td>\n",
       "      <td>0.00</td>\n",
       "      <td>0.00</td>\n",
       "      <td>0.00</td>\n",
       "    </tr>\n",
       "    <tr>\n",
       "      <th>25%</th>\n",
       "      <td>0.00</td>\n",
       "      <td>2.00</td>\n",
       "      <td>20.12</td>\n",
       "      <td>0.00</td>\n",
       "      <td>0.00</td>\n",
       "      <td>7.91</td>\n",
       "    </tr>\n",
       "    <tr>\n",
       "      <th>50%</th>\n",
       "      <td>0.00</td>\n",
       "      <td>3.00</td>\n",
       "      <td>28.00</td>\n",
       "      <td>0.00</td>\n",
       "      <td>0.00</td>\n",
       "      <td>14.45</td>\n",
       "    </tr>\n",
       "    <tr>\n",
       "      <th>75%</th>\n",
       "      <td>1.00</td>\n",
       "      <td>3.00</td>\n",
       "      <td>38.00</td>\n",
       "      <td>1.00</td>\n",
       "      <td>0.00</td>\n",
       "      <td>31.00</td>\n",
       "    </tr>\n",
       "    <tr>\n",
       "      <th>max</th>\n",
       "      <td>1.00</td>\n",
       "      <td>3.00</td>\n",
       "      <td>80.00</td>\n",
       "      <td>8.00</td>\n",
       "      <td>6.00</td>\n",
       "      <td>512.33</td>\n",
       "    </tr>\n",
       "  </tbody>\n",
       "</table>\n",
       "</div>"
      ],
      "text/plain": [
       "      Survived  Pclass     Age   SibSp   Parch    Fare\n",
       "count  891.00   891.00  714.00  891.00  891.00  891.00\n",
       "mean   0.38     2.31    29.70   0.52    0.38    32.20 \n",
       "std    0.49     0.84    14.53   1.10    0.81    49.69 \n",
       "min    0.00     1.00    0.42    0.00    0.00    0.00  \n",
       "25%    0.00     2.00    20.12   0.00    0.00    7.91  \n",
       "50%    0.00     3.00    28.00   0.00    0.00    14.45 \n",
       "75%    1.00     3.00    38.00   1.00    0.00    31.00 \n",
       "max    1.00     3.00    80.00   8.00    6.00    512.33"
      ]
     },
     "execution_count": 5,
     "metadata": {},
     "output_type": "execute_result"
    }
   ],
   "source": [
    "train_df.describe().applymap('{:.2f}'.format)"
   ]
  },
  {
   "cell_type": "code",
   "execution_count": 6,
   "metadata": {},
   "outputs": [
    {
     "name": "stdout",
     "output_type": "stream",
     "text": [
      "<class 'pandas.core.frame.DataFrame'>\n",
      "Int64Index: 418 entries, 892 to 1309\n",
      "Data columns (total 10 columns):\n",
      "Pclass      418 non-null int64\n",
      "Name        418 non-null object\n",
      "Sex         418 non-null object\n",
      "Age         332 non-null float64\n",
      "SibSp       418 non-null int64\n",
      "Parch       418 non-null int64\n",
      "Ticket      418 non-null object\n",
      "Fare        417 non-null float64\n",
      "Cabin       91 non-null object\n",
      "Embarked    418 non-null object\n",
      "dtypes: float64(2), int64(3), object(5)\n",
      "memory usage: 35.9+ KB\n"
     ]
    }
   ],
   "source": [
    "test_df.info()"
   ]
  },
  {
   "cell_type": "code",
   "execution_count": 7,
   "metadata": {},
   "outputs": [
    {
     "data": {
      "text/html": [
       "<div>\n",
       "<style scoped>\n",
       "    .dataframe tbody tr th:only-of-type {\n",
       "        vertical-align: middle;\n",
       "    }\n",
       "\n",
       "    .dataframe tbody tr th {\n",
       "        vertical-align: top;\n",
       "    }\n",
       "\n",
       "    .dataframe thead th {\n",
       "        text-align: right;\n",
       "    }\n",
       "</style>\n",
       "<table border=\"1\" class=\"dataframe\">\n",
       "  <thead>\n",
       "    <tr style=\"text-align: right;\">\n",
       "      <th></th>\n",
       "      <th>Pclass</th>\n",
       "      <th>Age</th>\n",
       "      <th>SibSp</th>\n",
       "      <th>Parch</th>\n",
       "      <th>Fare</th>\n",
       "    </tr>\n",
       "  </thead>\n",
       "  <tbody>\n",
       "    <tr>\n",
       "      <th>count</th>\n",
       "      <td>418.00</td>\n",
       "      <td>332.00</td>\n",
       "      <td>418.00</td>\n",
       "      <td>418.00</td>\n",
       "      <td>417.00</td>\n",
       "    </tr>\n",
       "    <tr>\n",
       "      <th>mean</th>\n",
       "      <td>2.27</td>\n",
       "      <td>30.27</td>\n",
       "      <td>0.45</td>\n",
       "      <td>0.39</td>\n",
       "      <td>35.63</td>\n",
       "    </tr>\n",
       "    <tr>\n",
       "      <th>std</th>\n",
       "      <td>0.84</td>\n",
       "      <td>14.18</td>\n",
       "      <td>0.90</td>\n",
       "      <td>0.98</td>\n",
       "      <td>55.91</td>\n",
       "    </tr>\n",
       "    <tr>\n",
       "      <th>min</th>\n",
       "      <td>1.00</td>\n",
       "      <td>0.17</td>\n",
       "      <td>0.00</td>\n",
       "      <td>0.00</td>\n",
       "      <td>0.00</td>\n",
       "    </tr>\n",
       "    <tr>\n",
       "      <th>25%</th>\n",
       "      <td>1.00</td>\n",
       "      <td>21.00</td>\n",
       "      <td>0.00</td>\n",
       "      <td>0.00</td>\n",
       "      <td>7.90</td>\n",
       "    </tr>\n",
       "    <tr>\n",
       "      <th>50%</th>\n",
       "      <td>3.00</td>\n",
       "      <td>27.00</td>\n",
       "      <td>0.00</td>\n",
       "      <td>0.00</td>\n",
       "      <td>14.45</td>\n",
       "    </tr>\n",
       "    <tr>\n",
       "      <th>75%</th>\n",
       "      <td>3.00</td>\n",
       "      <td>39.00</td>\n",
       "      <td>1.00</td>\n",
       "      <td>0.00</td>\n",
       "      <td>31.50</td>\n",
       "    </tr>\n",
       "    <tr>\n",
       "      <th>max</th>\n",
       "      <td>3.00</td>\n",
       "      <td>76.00</td>\n",
       "      <td>8.00</td>\n",
       "      <td>9.00</td>\n",
       "      <td>512.33</td>\n",
       "    </tr>\n",
       "  </tbody>\n",
       "</table>\n",
       "</div>"
      ],
      "text/plain": [
       "       Pclass     Age   SibSp   Parch    Fare\n",
       "count  418.00  332.00  418.00  418.00  417.00\n",
       "mean   2.27    30.27   0.45    0.39    35.63 \n",
       "std    0.84    14.18   0.90    0.98    55.91 \n",
       "min    1.00    0.17    0.00    0.00    0.00  \n",
       "25%    1.00    21.00   0.00    0.00    7.90  \n",
       "50%    3.00    27.00   0.00    0.00    14.45 \n",
       "75%    3.00    39.00   1.00    0.00    31.50 \n",
       "max    3.00    76.00   8.00    9.00    512.33"
      ]
     },
     "execution_count": 7,
     "metadata": {},
     "output_type": "execute_result"
    }
   ],
   "source": [
    "test_df.describe().applymap('{:.2f}'.format)"
   ]
  },
  {
   "cell_type": "code",
   "execution_count": 8,
   "metadata": {},
   "outputs": [],
   "source": [
    "train_df.drop('Cabin', axis=1, inplace=True)\n",
    "test_df.drop('Cabin', axis=1, inplace=True)"
   ]
  },
  {
   "cell_type": "code",
   "execution_count": 9,
   "metadata": {},
   "outputs": [],
   "source": [
    "train_df.drop('Ticket', axis=1, inplace=True)\n",
    "test_df.drop('Ticket', axis=1, inplace=True)"
   ]
  },
  {
   "cell_type": "markdown",
   "metadata": {},
   "source": [
    "## Feature engineering"
   ]
  },
  {
   "cell_type": "markdown",
   "metadata": {},
   "source": [
    "I'm going to extract the title from the `Name` feature and create the `Title` feature to see if the title has any effect on the chance of survival, after which I'm going to discard the `Name` feature."
   ]
  },
  {
   "cell_type": "code",
   "execution_count": 10,
   "metadata": {},
   "outputs": [],
   "source": [
    "train_df['Title'] = train_df['Name'].apply(lambda x: x.split(',')[1].split(' ')[1])"
   ]
  },
  {
   "cell_type": "markdown",
   "metadata": {},
   "source": [
    "Just a quick fix, `the` which appears above is actually of part of `the Countess. of`, so I'm going to replace `the` with `Countess.`."
   ]
  },
  {
   "cell_type": "code",
   "execution_count": 11,
   "metadata": {},
   "outputs": [],
   "source": [
    "train_df['Title'].replace('the', 'Countess.', inplace=True)"
   ]
  },
  {
   "cell_type": "code",
   "execution_count": 12,
   "metadata": {},
   "outputs": [
    {
     "data": {
      "text/plain": [
       "Mr.          517\n",
       "Miss.        182\n",
       "Mrs.         125\n",
       "Master.      40 \n",
       "Dr.          7  \n",
       "Rev.         6  \n",
       "Col.         2  \n",
       "Mlle.        2  \n",
       "Major.       2  \n",
       "Jonkheer.    1  \n",
       "Don.         1  \n",
       "Ms.          1  \n",
       "Capt.        1  \n",
       "Countess.    1  \n",
       "Lady.        1  \n",
       "Mme.         1  \n",
       "Sir.         1  \n",
       "Name: Title, dtype: int64"
      ]
     },
     "execution_count": 12,
     "metadata": {},
     "output_type": "execute_result"
    }
   ],
   "source": [
    "train_df['Title'].value_counts(ascending=False)"
   ]
  },
  {
   "cell_type": "code",
   "execution_count": 13,
   "metadata": {},
   "outputs": [],
   "source": [
    "train_df.drop('Name', axis=1, inplace=True)"
   ]
  },
  {
   "cell_type": "markdown",
   "metadata": {},
   "source": [
    "I'm going to create the `Family Size` feature to see if that has any effect on survival."
   ]
  },
  {
   "cell_type": "code",
   "execution_count": 14,
   "metadata": {},
   "outputs": [],
   "source": [
    "train_df['Family Size'] = train_df['Parch'] + train_df['SibSp'] + 1"
   ]
  },
  {
   "cell_type": "code",
   "execution_count": 15,
   "metadata": {},
   "outputs": [
    {
     "data": {
      "text/plain": [
       "1     537\n",
       "2     161\n",
       "3     102\n",
       "4     29 \n",
       "6     22 \n",
       "5     15 \n",
       "7     12 \n",
       "11    7  \n",
       "8     6  \n",
       "Name: Family Size, dtype: int64"
      ]
     },
     "execution_count": 15,
     "metadata": {},
     "output_type": "execute_result"
    }
   ],
   "source": [
    "train_df['Family Size'].value_counts(ascending=False)"
   ]
  },
  {
   "cell_type": "markdown",
   "metadata": {},
   "source": [
    "I'm going to replace the `NaN` values in `Embarked` with the mode of the feature column."
   ]
  },
  {
   "cell_type": "code",
   "execution_count": 16,
   "metadata": {},
   "outputs": [],
   "source": [
    "train_df['Embarked'].fillna(train_df['Embarked'].mode().values[0], inplace=True)"
   ]
  },
  {
   "cell_type": "markdown",
   "metadata": {},
   "source": [
    "In a similar vein, I'm replacing the `NaN` values in `Fare` with the median of the feature column."
   ]
  },
  {
   "cell_type": "code",
   "execution_count": 17,
   "metadata": {},
   "outputs": [],
   "source": [
    "train_df['Fare'].fillna(train_df['Fare'].median(), inplace=True)"
   ]
  },
  {
   "cell_type": "markdown",
   "metadata": {},
   "source": [
    "Finally, I'm replacing the `NaN` values in `Age` with the median of the feature."
   ]
  },
  {
   "cell_type": "code",
   "execution_count": 18,
   "metadata": {},
   "outputs": [],
   "source": [
    "train_df['Age'].fillna(train_df['Age'].median(), inplace=True)"
   ]
  },
  {
   "cell_type": "code",
   "execution_count": 19,
   "metadata": {},
   "outputs": [
    {
     "data": {
      "text/plain": [
       "Survived       False\n",
       "Pclass         False\n",
       "Sex            False\n",
       "Age            False\n",
       "SibSp          False\n",
       "Parch          False\n",
       "Fare           False\n",
       "Embarked       False\n",
       "Title          False\n",
       "Family Size    False\n",
       "dtype: bool"
      ]
     },
     "execution_count": 19,
     "metadata": {},
     "output_type": "execute_result"
    }
   ],
   "source": [
    "train_df.isna().any()"
   ]
  },
  {
   "cell_type": "code",
   "execution_count": 20,
   "metadata": {},
   "outputs": [
    {
     "data": {
      "text/html": [
       "<div>\n",
       "<style scoped>\n",
       "    .dataframe tbody tr th:only-of-type {\n",
       "        vertical-align: middle;\n",
       "    }\n",
       "\n",
       "    .dataframe tbody tr th {\n",
       "        vertical-align: top;\n",
       "    }\n",
       "\n",
       "    .dataframe thead th {\n",
       "        text-align: right;\n",
       "    }\n",
       "</style>\n",
       "<table border=\"1\" class=\"dataframe\">\n",
       "  <thead>\n",
       "    <tr style=\"text-align: right;\">\n",
       "      <th></th>\n",
       "      <th>Survived</th>\n",
       "      <th>Pclass</th>\n",
       "      <th>Sex</th>\n",
       "      <th>Age</th>\n",
       "      <th>SibSp</th>\n",
       "      <th>Parch</th>\n",
       "      <th>Fare</th>\n",
       "      <th>Embarked</th>\n",
       "      <th>Title</th>\n",
       "      <th>Family Size</th>\n",
       "    </tr>\n",
       "    <tr>\n",
       "      <th>PassengerId</th>\n",
       "      <th></th>\n",
       "      <th></th>\n",
       "      <th></th>\n",
       "      <th></th>\n",
       "      <th></th>\n",
       "      <th></th>\n",
       "      <th></th>\n",
       "      <th></th>\n",
       "      <th></th>\n",
       "      <th></th>\n",
       "    </tr>\n",
       "  </thead>\n",
       "  <tbody>\n",
       "    <tr>\n",
       "      <th>1</th>\n",
       "      <td>0</td>\n",
       "      <td>3</td>\n",
       "      <td>male</td>\n",
       "      <td>22.0</td>\n",
       "      <td>1</td>\n",
       "      <td>0</td>\n",
       "      <td>7.2500</td>\n",
       "      <td>S</td>\n",
       "      <td>Mr.</td>\n",
       "      <td>2</td>\n",
       "    </tr>\n",
       "    <tr>\n",
       "      <th>2</th>\n",
       "      <td>1</td>\n",
       "      <td>1</td>\n",
       "      <td>female</td>\n",
       "      <td>38.0</td>\n",
       "      <td>1</td>\n",
       "      <td>0</td>\n",
       "      <td>71.2833</td>\n",
       "      <td>C</td>\n",
       "      <td>Mrs.</td>\n",
       "      <td>2</td>\n",
       "    </tr>\n",
       "    <tr>\n",
       "      <th>3</th>\n",
       "      <td>1</td>\n",
       "      <td>3</td>\n",
       "      <td>female</td>\n",
       "      <td>26.0</td>\n",
       "      <td>0</td>\n",
       "      <td>0</td>\n",
       "      <td>7.9250</td>\n",
       "      <td>S</td>\n",
       "      <td>Miss.</td>\n",
       "      <td>1</td>\n",
       "    </tr>\n",
       "    <tr>\n",
       "      <th>4</th>\n",
       "      <td>1</td>\n",
       "      <td>1</td>\n",
       "      <td>female</td>\n",
       "      <td>35.0</td>\n",
       "      <td>1</td>\n",
       "      <td>0</td>\n",
       "      <td>53.1000</td>\n",
       "      <td>S</td>\n",
       "      <td>Mrs.</td>\n",
       "      <td>2</td>\n",
       "    </tr>\n",
       "    <tr>\n",
       "      <th>5</th>\n",
       "      <td>0</td>\n",
       "      <td>3</td>\n",
       "      <td>male</td>\n",
       "      <td>35.0</td>\n",
       "      <td>0</td>\n",
       "      <td>0</td>\n",
       "      <td>8.0500</td>\n",
       "      <td>S</td>\n",
       "      <td>Mr.</td>\n",
       "      <td>1</td>\n",
       "    </tr>\n",
       "  </tbody>\n",
       "</table>\n",
       "</div>"
      ],
      "text/plain": [
       "             Survived  Pclass     Sex   Age  SibSp  Parch     Fare Embarked  \\\n",
       "PassengerId                                                                   \n",
       "1            0         3       male    22.0  1      0      7.2500   S         \n",
       "2            1         1       female  38.0  1      0      71.2833  C         \n",
       "3            1         3       female  26.0  0      0      7.9250   S         \n",
       "4            1         1       female  35.0  1      0      53.1000  S         \n",
       "5            0         3       male    35.0  0      0      8.0500   S         \n",
       "\n",
       "             Title  Family Size  \n",
       "PassengerId                      \n",
       "1            Mr.    2            \n",
       "2            Mrs.   2            \n",
       "3            Miss.  1            \n",
       "4            Mrs.   2            \n",
       "5            Mr.    1            "
      ]
     },
     "execution_count": 20,
     "metadata": {},
     "output_type": "execute_result"
    }
   ],
   "source": [
    "train_df.head()"
   ]
  },
  {
   "cell_type": "markdown",
   "metadata": {},
   "source": [
    "Let's do the same for the `test_df` data set."
   ]
  },
  {
   "cell_type": "code",
   "execution_count": 21,
   "metadata": {},
   "outputs": [],
   "source": [
    "test_df['Title'] = test_df['Name'].apply(lambda x: x.split(',')[1].split(' ')[1])\n",
    "test_df.drop('Name', axis=1, inplace=True)\n",
    "test_df['Family Size'] = test_df['Parch'] + test_df['SibSp'] + 1\n",
    "test_df['Embarked'].fillna(test_df['Embarked'].mode().values[0], inplace=True)\n",
    "test_df['Fare'].fillna(test_df['Fare'].median(), inplace=True)\n",
    "test_df['Age'].fillna(test_df['Age'].median(), inplace=True)"
   ]
  },
  {
   "cell_type": "code",
   "execution_count": 22,
   "metadata": {},
   "outputs": [
    {
     "data": {
      "text/plain": [
       "Pclass         False\n",
       "Sex            False\n",
       "Age            False\n",
       "SibSp          False\n",
       "Parch          False\n",
       "Fare           False\n",
       "Embarked       False\n",
       "Title          False\n",
       "Family Size    False\n",
       "dtype: bool"
      ]
     },
     "execution_count": 22,
     "metadata": {},
     "output_type": "execute_result"
    }
   ],
   "source": [
    "test_df.isna().any()"
   ]
  },
  {
   "cell_type": "code",
   "execution_count": 23,
   "metadata": {},
   "outputs": [
    {
     "data": {
      "text/html": [
       "<div>\n",
       "<style scoped>\n",
       "    .dataframe tbody tr th:only-of-type {\n",
       "        vertical-align: middle;\n",
       "    }\n",
       "\n",
       "    .dataframe tbody tr th {\n",
       "        vertical-align: top;\n",
       "    }\n",
       "\n",
       "    .dataframe thead th {\n",
       "        text-align: right;\n",
       "    }\n",
       "</style>\n",
       "<table border=\"1\" class=\"dataframe\">\n",
       "  <thead>\n",
       "    <tr style=\"text-align: right;\">\n",
       "      <th></th>\n",
       "      <th>Pclass</th>\n",
       "      <th>Sex</th>\n",
       "      <th>Age</th>\n",
       "      <th>SibSp</th>\n",
       "      <th>Parch</th>\n",
       "      <th>Fare</th>\n",
       "      <th>Embarked</th>\n",
       "      <th>Title</th>\n",
       "      <th>Family Size</th>\n",
       "    </tr>\n",
       "    <tr>\n",
       "      <th>PassengerId</th>\n",
       "      <th></th>\n",
       "      <th></th>\n",
       "      <th></th>\n",
       "      <th></th>\n",
       "      <th></th>\n",
       "      <th></th>\n",
       "      <th></th>\n",
       "      <th></th>\n",
       "      <th></th>\n",
       "    </tr>\n",
       "  </thead>\n",
       "  <tbody>\n",
       "    <tr>\n",
       "      <th>892</th>\n",
       "      <td>3</td>\n",
       "      <td>male</td>\n",
       "      <td>34.5</td>\n",
       "      <td>0</td>\n",
       "      <td>0</td>\n",
       "      <td>7.8292</td>\n",
       "      <td>Q</td>\n",
       "      <td>Mr.</td>\n",
       "      <td>1</td>\n",
       "    </tr>\n",
       "    <tr>\n",
       "      <th>893</th>\n",
       "      <td>3</td>\n",
       "      <td>female</td>\n",
       "      <td>47.0</td>\n",
       "      <td>1</td>\n",
       "      <td>0</td>\n",
       "      <td>7.0000</td>\n",
       "      <td>S</td>\n",
       "      <td>Mrs.</td>\n",
       "      <td>2</td>\n",
       "    </tr>\n",
       "    <tr>\n",
       "      <th>894</th>\n",
       "      <td>2</td>\n",
       "      <td>male</td>\n",
       "      <td>62.0</td>\n",
       "      <td>0</td>\n",
       "      <td>0</td>\n",
       "      <td>9.6875</td>\n",
       "      <td>Q</td>\n",
       "      <td>Mr.</td>\n",
       "      <td>1</td>\n",
       "    </tr>\n",
       "    <tr>\n",
       "      <th>895</th>\n",
       "      <td>3</td>\n",
       "      <td>male</td>\n",
       "      <td>27.0</td>\n",
       "      <td>0</td>\n",
       "      <td>0</td>\n",
       "      <td>8.6625</td>\n",
       "      <td>S</td>\n",
       "      <td>Mr.</td>\n",
       "      <td>1</td>\n",
       "    </tr>\n",
       "    <tr>\n",
       "      <th>896</th>\n",
       "      <td>3</td>\n",
       "      <td>female</td>\n",
       "      <td>22.0</td>\n",
       "      <td>1</td>\n",
       "      <td>1</td>\n",
       "      <td>12.2875</td>\n",
       "      <td>S</td>\n",
       "      <td>Mrs.</td>\n",
       "      <td>3</td>\n",
       "    </tr>\n",
       "  </tbody>\n",
       "</table>\n",
       "</div>"
      ],
      "text/plain": [
       "             Pclass     Sex   Age  SibSp  Parch     Fare Embarked Title  \\\n",
       "PassengerId                                                               \n",
       "892          3       male    34.5  0      0      7.8292   Q        Mr.    \n",
       "893          3       female  47.0  1      0      7.0000   S        Mrs.   \n",
       "894          2       male    62.0  0      0      9.6875   Q        Mr.    \n",
       "895          3       male    27.0  0      0      8.6625   S        Mr.    \n",
       "896          3       female  22.0  1      1      12.2875  S        Mrs.   \n",
       "\n",
       "             Family Size  \n",
       "PassengerId               \n",
       "892          1            \n",
       "893          2            \n",
       "894          1            \n",
       "895          1            \n",
       "896          3            "
      ]
     },
     "execution_count": 23,
     "metadata": {},
     "output_type": "execute_result"
    }
   ],
   "source": [
    "test_df.head()"
   ]
  },
  {
   "cell_type": "markdown",
   "metadata": {},
   "source": [
    "## Checking for correlations"
   ]
  },
  {
   "cell_type": "markdown",
   "metadata": {},
   "source": [
    "Unfortunately by generating the `Family Size` attribute, we haven't created a new feature that is correlated to the `Survived` feature."
   ]
  },
  {
   "cell_type": "code",
   "execution_count": 24,
   "metadata": {},
   "outputs": [
    {
     "data": {
      "text/plain": [
       "Survived       1.000000\n",
       "Pclass        -0.338481\n",
       "Age           -0.064910\n",
       "SibSp         -0.035322\n",
       "Parch          0.081629\n",
       "Fare           0.257307\n",
       "Family Size    0.016639\n",
       "Name: Survived, dtype: float64"
      ]
     },
     "execution_count": 24,
     "metadata": {},
     "output_type": "execute_result"
    }
   ],
   "source": [
    "train_df.corr()['Survived']"
   ]
  },
  {
   "cell_type": "markdown",
   "metadata": {},
   "source": [
    "## Model pipeline"
   ]
  },
  {
   "cell_type": "code",
   "execution_count": 25,
   "metadata": {},
   "outputs": [],
   "source": [
    "from model_pipeline import ModelPipeline, BinaryModelTraining, BinaryClassMetrics"
   ]
  },
  {
   "cell_type": "code",
   "execution_count": 26,
   "metadata": {},
   "outputs": [],
   "source": [
    "from sklearn.linear_model import SGDClassifier\n",
    "from sklearn.linear_model import LogisticRegression\n",
    "from sklearn.tree import DecisionTreeClassifier\n",
    "from sklearn.ensemble import RandomForestClassifier\n",
    "from sklearn.svm import SVC"
   ]
  },
  {
   "cell_type": "code",
   "execution_count": 27,
   "metadata": {},
   "outputs": [],
   "source": [
    "cat_attrib = list(train_df.select_dtypes('object'))\n",
    "num_attrib = list(set(train_df.columns) - set(cat_attrib) - set(['Survived']))"
   ]
  },
  {
   "cell_type": "code",
   "execution_count": 28,
   "metadata": {},
   "outputs": [],
   "source": [
    "model_dict = {'Logistic regression': LogisticRegression(solver='newton-cg', n_jobs=-1, random_state=42), \\\n",
    "              'Stochastic gradient descent classifier': SGDClassifier(loss='log', random_state=42), \\\n",
    "              'Decision tree classifier': DecisionTreeClassifier(random_state=42), \\\n",
    "              'Random forest classifier': RandomForestClassifier(n_jobs=-1, n_estimators=100, random_state=42), \\\n",
    "              'Support vector classifier': SVC(kernel='linear', gamma='scale', probability=True, random_state=42)}"
   ]
  },
  {
   "cell_type": "code",
   "execution_count": 29,
   "metadata": {
    "scrolled": false
   },
   "outputs": [
    {
     "name": "stdout",
     "output_type": "stream",
     "text": [
      "Accuracy of the logistic regression on test set: 0.8172\n",
      "Accuracy of the stochastic gradient descent classifier on test set: 0.8060\n",
      "Accuracy of the decision tree classifier on test set: 0.7537\n",
      "Accuracy of the random forest classifier on test set: 0.7948\n",
      "Accuracy of the support vector classifier on test set: 0.8321\n",
      "Time elapsed for training: 1.43 seconds\n",
      "\n",
      "Root mean square error for the logistic regression model: 0.428\n",
      "Root mean square error for the stochastic gradient descent classifier model: 0.440\n",
      "Root mean square error for the decision tree classifier model: 0.496\n",
      "Root mean square error for the random forest classifier model: 0.453\n",
      "Root mean square error for the support vector classifier model: 0.410\n",
      "\n"
     ]
    }
   ],
   "source": [
    "mp = ModelPipeline(train_df, cat_attrib, num_attrib)\n",
    "X_train, X_test, y_train, y_test = mp.full_pipeline()\n",
    "bmt = BinaryModelTraining(X_train, X_test, y_train, y_test)\n",
    "y_pred_results, y_pred_proba_results = bmt.train(model_dict)\n",
    "bcm = BinaryClassMetrics(model_dict, y_pred_results, y_pred_proba_results)\n",
    "bcm.compute_rmse(y_test)"
   ]
  },
  {
   "cell_type": "code",
   "execution_count": 30,
   "metadata": {},
   "outputs": [
    {
     "name": "stdout",
     "output_type": "stream",
     "text": [
      "Confusion matrix for the logistic regression model: \n",
      "[[133  24]\n",
      " [ 25  86]]\n",
      "\n",
      "Confusion matrix for the stochastic gradient descent classifier model: \n",
      "[[136  21]\n",
      " [ 31  80]]\n",
      "\n",
      "Confusion matrix for the decision tree classifier model: \n",
      "[[125  32]\n",
      " [ 34  77]]\n",
      "\n",
      "Confusion matrix for the random forest classifier model: \n",
      "[[130  27]\n",
      " [ 28  83]]\n",
      "\n",
      "Confusion matrix for the support vector classifier model: \n",
      "[[139  18]\n",
      " [ 27  84]]\n",
      "\n"
     ]
    }
   ],
   "source": [
    "bcm.compute_confusion_matrix(y_test)"
   ]
  },
  {
   "cell_type": "code",
   "execution_count": 31,
   "metadata": {},
   "outputs": [
    {
     "name": "stdout",
     "output_type": "stream",
     "text": [
      "Precision, recall, F-measure and support for the logistic regression model: \n",
      "              precision    recall  f1-score   support\n",
      "\n",
      "           0       0.84      0.85      0.84       157\n",
      "           1       0.78      0.77      0.78       111\n",
      "\n",
      "    accuracy                           0.82       268\n",
      "   macro avg       0.81      0.81      0.81       268\n",
      "weighted avg       0.82      0.82      0.82       268\n",
      "\n",
      "\n",
      "Precision, recall, F-measure and support for the stochastic gradient descent classifier model: \n",
      "              precision    recall  f1-score   support\n",
      "\n",
      "           0       0.81      0.87      0.84       157\n",
      "           1       0.79      0.72      0.75       111\n",
      "\n",
      "    accuracy                           0.81       268\n",
      "   macro avg       0.80      0.79      0.80       268\n",
      "weighted avg       0.81      0.81      0.80       268\n",
      "\n",
      "\n",
      "Precision, recall, F-measure and support for the decision tree classifier model: \n",
      "              precision    recall  f1-score   support\n",
      "\n",
      "           0       0.79      0.80      0.79       157\n",
      "           1       0.71      0.69      0.70       111\n",
      "\n",
      "    accuracy                           0.75       268\n",
      "   macro avg       0.75      0.74      0.75       268\n",
      "weighted avg       0.75      0.75      0.75       268\n",
      "\n",
      "\n",
      "Precision, recall, F-measure and support for the random forest classifier model: \n",
      "              precision    recall  f1-score   support\n",
      "\n",
      "           0       0.82      0.83      0.83       157\n",
      "           1       0.75      0.75      0.75       111\n",
      "\n",
      "    accuracy                           0.79       268\n",
      "   macro avg       0.79      0.79      0.79       268\n",
      "weighted avg       0.79      0.79      0.79       268\n",
      "\n",
      "\n",
      "Precision, recall, F-measure and support for the support vector classifier model: \n",
      "              precision    recall  f1-score   support\n",
      "\n",
      "           0       0.84      0.89      0.86       157\n",
      "           1       0.82      0.76      0.79       111\n",
      "\n",
      "    accuracy                           0.83       268\n",
      "   macro avg       0.83      0.82      0.82       268\n",
      "weighted avg       0.83      0.83      0.83       268\n",
      "\n",
      "\n"
     ]
    }
   ],
   "source": [
    "bcm.compute_classification_report(y_test)"
   ]
  },
  {
   "cell_type": "code",
   "execution_count": 32,
   "metadata": {
    "scrolled": false
   },
   "outputs": [
    {
     "data": {
      "image/png": "[encoded data removed]",
      "text/plain": [
       "<Figure size 720x576 with 1 Axes>"
      ]
     },
     "metadata": {
      "needs_background": "light"
     },
     "output_type": "display_data"
    },
    {
     "data": {
      "image/png": "[encoded data removed]",
      "text/plain": [
       "<Figure size 720x576 with 1 Axes>"
      ]
     },
     "metadata": {
      "needs_background": "light"
     },
     "output_type": "display_data"
    },
    {
     "data": {
      "image/png": "[encoded data removed]",
      "text/plain": [
       "<Figure size 720x576 with 1 Axes>"
      ]
     },
     "metadata": {
      "needs_background": "light"
     },
     "output_type": "display_data"
    },
    {
     "data": {
      "image/png": "[encoded data removed]",
      "text/plain": [
       "<Figure size 720x576 with 1 Axes>"
      ]
     },
     "metadata": {
      "needs_background": "light"
     },
     "output_type": "display_data"
    },
    {
     "data": {
      "image/png": "[encoded data removed]",
      "text/plain": [
       "<Figure size 720x576 with 1 Axes>"
      ]
     },
     "metadata": {
      "needs_background": "light"
     },
     "output_type": "display_data"
    }
   ],
   "source": [
    "bcm.compute_plots(y_test)"
   ]
  },
  {
   "cell_type": "markdown",
   "metadata": {},
   "source": [
    "It appears that the **support vector machine classifier** is the model with the best accuracy, root mean square and greatest ROC area under the curve. Let's try to do refine the parameters using grid search!"
   ]
  },
  {
   "cell_type": "markdown",
   "metadata": {},
   "source": [
    "## Grid search"
   ]
  },
  {
   "cell_type": "code",
   "execution_count": 33,
   "metadata": {},
   "outputs": [],
   "source": [
    "from parameter_search import BestParameterSearch"
   ]
  },
  {
   "cell_type": "markdown",
   "metadata": {},
   "source": [
    "### Support vector classifier"
   ]
  },
  {
   "cell_type": "code",
   "execution_count": 34,
   "metadata": {},
   "outputs": [],
   "source": [
    "svc = SVC()"
   ]
  },
  {
   "cell_type": "code",
   "execution_count": 35,
   "metadata": {},
   "outputs": [],
   "source": [
    "param_grid = [{'kernel': ['linear', 'poly', 'rbf', 'sigmoid'], 'degree': [2, 3, 4, 6], 'coef0': [0.1, 1.0, 10], \\\n",
    "               'C': [0.1, 1.0, 10], 'gamma': ['scale'], 'max_iter': [10000, 100000, 1000000], \\\n",
    "               'probability': [True], 'random_state': [42], 'coef0': [1, 10, 50], 'tol': [0.01, 0.001, 0.0001]}]"
   ]
  },
  {
   "cell_type": "code",
   "execution_count": 36,
   "metadata": {},
   "outputs": [],
   "source": [
    "grid_search = BestParameterSearch(svc, param_grid, scoring='neg_mean_squared_error', cv=5, return_train_score=True)"
   ]
  },
  {
   "cell_type": "code",
   "execution_count": 37,
   "metadata": {},
   "outputs": [
    {
     "name": "stderr",
     "output_type": "stream",
     "text": [
      "/Applications/Computation/miniconda3/lib/python3.7/site-packages/sklearn/model_selection/_split.py:1978: FutureWarning: The default value of cv will change from 3 to 5 in version 0.22. Specify it explicitly to silence this warning.\n",
      "  warnings.warn(CV_WARNING, FutureWarning)\n",
      "/Applications/Computation/miniconda3/lib/python3.7/site-packages/sklearn/svm/base.py:241: ConvergenceWarning: Solver terminated early (max_iter=10000).  Consider pre-processing your data with StandardScaler or MinMaxScaler.\n",
      "  % self.max_iter, ConvergenceWarning)\n"
     ]
    }
   ],
   "source": [
    "best_model, best_params_df = grid_search.best_fit_results(X_train, y_train)"
   ]
  },
  {
   "cell_type": "code",
   "execution_count": 38,
   "metadata": {},
   "outputs": [
    {
     "data": {
      "text/plain": [
       "SVC(C=10, cache_size=200, class_weight=None, coef0=50,\n",
       "    decision_function_shape='ovr', degree=2, gamma='scale', kernel='poly',\n",
       "    max_iter=10000, probability=True, random_state=42, shrinking=True, tol=0.01,\n",
       "    verbose=False)"
      ]
     },
     "execution_count": 38,
     "metadata": {},
     "output_type": "execute_result"
    }
   ],
   "source": [
    "best_model"
   ]
  },
  {
   "cell_type": "code",
   "execution_count": 39,
   "metadata": {},
   "outputs": [
    {
     "data": {
      "text/html": [
       "<div>\n",
       "<style scoped>\n",
       "    .dataframe tbody tr th:only-of-type {\n",
       "        vertical-align: middle;\n",
       "    }\n",
       "\n",
       "    .dataframe tbody tr th {\n",
       "        vertical-align: top;\n",
       "    }\n",
       "\n",
       "    .dataframe thead th {\n",
       "        text-align: right;\n",
       "    }\n",
       "</style>\n",
       "<table border=\"1\" class=\"dataframe\">\n",
       "  <thead>\n",
       "    <tr style=\"text-align: right;\">\n",
       "      <th></th>\n",
       "      <th>RMSE</th>\n",
       "      <th>Parameters</th>\n",
       "    </tr>\n",
       "  </thead>\n",
       "  <tbody>\n",
       "    <tr>\n",
       "      <th>0</th>\n",
       "      <td>0.404628</td>\n",
       "      <td>{'C': 10, 'coef0': 50, 'degree': 2, 'gamma': 'scale', 'kernel': 'poly', 'max_iter': 10000, 'probability': True, 'random_state': 42, 'tol': 0.001}</td>\n",
       "    </tr>\n",
       "    <tr>\n",
       "      <th>1</th>\n",
       "      <td>0.404628</td>\n",
       "      <td>{'C': 10, 'coef0': 50, 'degree': 2, 'gamma': 'scale', 'kernel': 'poly', 'max_iter': 10000, 'probability': True, 'random_state': 42, 'tol': 0.01}</td>\n",
       "    </tr>\n",
       "    <tr>\n",
       "      <th>2</th>\n",
       "      <td>0.404628</td>\n",
       "      <td>{'C': 10, 'coef0': 50, 'degree': 2, 'gamma': 'scale', 'kernel': 'poly', 'max_iter': 10000, 'probability': True, 'random_state': 42, 'tol': 0.0001}</td>\n",
       "    </tr>\n",
       "    <tr>\n",
       "      <th>3</th>\n",
       "      <td>0.406607</td>\n",
       "      <td>{'C': 10, 'coef0': 10, 'degree': 2, 'gamma': 'scale', 'kernel': 'poly', 'max_iter': 10000, 'probability': True, 'random_state': 42, 'tol': 0.001}</td>\n",
       "    </tr>\n",
       "    <tr>\n",
       "      <th>4</th>\n",
       "      <td>0.406607</td>\n",
       "      <td>{'C': 10, 'coef0': 10, 'degree': 2, 'gamma': 'scale', 'kernel': 'poly', 'max_iter': 10000, 'probability': True, 'random_state': 42, 'tol': 0.0001}</td>\n",
       "    </tr>\n",
       "    <tr>\n",
       "      <th>5</th>\n",
       "      <td>0.408576</td>\n",
       "      <td>{'C': 0.1, 'coef0': 50, 'degree': 3, 'gamma': 'scale', 'kernel': 'poly', 'max_iter': 1000000, 'probability': True, 'random_state': 42, 'tol': 0.0001}</td>\n",
       "    </tr>\n",
       "    <tr>\n",
       "      <th>6</th>\n",
       "      <td>0.408576</td>\n",
       "      <td>{'C': 0.1, 'coef0': 10, 'degree': 3, 'gamma': 'scale', 'kernel': 'poly', 'max_iter': 1000000, 'probability': True, 'random_state': 42, 'tol': 0.0001}</td>\n",
       "    </tr>\n",
       "    <tr>\n",
       "      <th>7</th>\n",
       "      <td>0.408576</td>\n",
       "      <td>{'C': 0.1, 'coef0': 10, 'degree': 3, 'gamma': 'scale', 'kernel': 'poly', 'max_iter': 1000000, 'probability': True, 'random_state': 42, 'tol': 0.001}</td>\n",
       "    </tr>\n",
       "    <tr>\n",
       "      <th>8</th>\n",
       "      <td>0.408576</td>\n",
       "      <td>{'C': 0.1, 'coef0': 10, 'degree': 3, 'gamma': 'scale', 'kernel': 'poly', 'max_iter': 100000, 'probability': True, 'random_state': 42, 'tol': 0.0001}</td>\n",
       "    </tr>\n",
       "    <tr>\n",
       "      <th>9</th>\n",
       "      <td>0.408576</td>\n",
       "      <td>{'C': 0.1, 'coef0': 10, 'degree': 3, 'gamma': 'scale', 'kernel': 'poly', 'max_iter': 100000, 'probability': True, 'random_state': 42, 'tol': 0.001}</td>\n",
       "    </tr>\n",
       "  </tbody>\n",
       "</table>\n",
       "</div>"
      ],
      "text/plain": [
       "       RMSE  \\\n",
       "0  0.404628   \n",
       "1  0.404628   \n",
       "2  0.404628   \n",
       "3  0.406607   \n",
       "4  0.406607   \n",
       "5  0.408576   \n",
       "6  0.408576   \n",
       "7  0.408576   \n",
       "8  0.408576   \n",
       "9  0.408576   \n",
       "\n",
       "                                                                                                                                              Parameters  \n",
       "0  {'C': 10, 'coef0': 50, 'degree': 2, 'gamma': 'scale', 'kernel': 'poly', 'max_iter': 10000, 'probability': True, 'random_state': 42, 'tol': 0.001}      \n",
       "1  {'C': 10, 'coef0': 50, 'degree': 2, 'gamma': 'scale', 'kernel': 'poly', 'max_iter': 10000, 'probability': True, 'random_state': 42, 'tol': 0.01}       \n",
       "2  {'C': 10, 'coef0': 50, 'degree': 2, 'gamma': 'scale', 'kernel': 'poly', 'max_iter': 10000, 'probability': True, 'random_state': 42, 'tol': 0.0001}     \n",
       "3  {'C': 10, 'coef0': 10, 'degree': 2, 'gamma': 'scale', 'kernel': 'poly', 'max_iter': 10000, 'probability': True, 'random_state': 42, 'tol': 0.001}      \n",
       "4  {'C': 10, 'coef0': 10, 'degree': 2, 'gamma': 'scale', 'kernel': 'poly', 'max_iter': 10000, 'probability': True, 'random_state': 42, 'tol': 0.0001}     \n",
       "5  {'C': 0.1, 'coef0': 50, 'degree': 3, 'gamma': 'scale', 'kernel': 'poly', 'max_iter': 1000000, 'probability': True, 'random_state': 42, 'tol': 0.0001}  \n",
       "6  {'C': 0.1, 'coef0': 10, 'degree': 3, 'gamma': 'scale', 'kernel': 'poly', 'max_iter': 1000000, 'probability': True, 'random_state': 42, 'tol': 0.0001}  \n",
       "7  {'C': 0.1, 'coef0': 10, 'degree': 3, 'gamma': 'scale', 'kernel': 'poly', 'max_iter': 1000000, 'probability': True, 'random_state': 42, 'tol': 0.001}   \n",
       "8  {'C': 0.1, 'coef0': 10, 'degree': 3, 'gamma': 'scale', 'kernel': 'poly', 'max_iter': 100000, 'probability': True, 'random_state': 42, 'tol': 0.0001}   \n",
       "9  {'C': 0.1, 'coef0': 10, 'degree': 3, 'gamma': 'scale', 'kernel': 'poly', 'max_iter': 100000, 'probability': True, 'random_state': 42, 'tol': 0.001}    "
      ]
     },
     "execution_count": 39,
     "metadata": {},
     "output_type": "execute_result"
    }
   ],
   "source": [
    "best_params_df.head(10)"
   ]
  },
  {
   "cell_type": "code",
   "execution_count": 40,
   "metadata": {},
   "outputs": [
    {
     "name": "stdout",
     "output_type": "stream",
     "text": [
      "Accuracy of the best support vector classifier on test set: 0.8209\n",
      "Time elapsed for training: 0.22 seconds\n",
      "\n",
      "Root mean square error for the best support vector classifier model: 0.423\n",
      "\n"
     ]
    },
    {
     "name": "stderr",
     "output_type": "stream",
     "text": [
      "/Applications/Computation/miniconda3/lib/python3.7/site-packages/sklearn/svm/base.py:241: ConvergenceWarning: Solver terminated early (max_iter=10000).  Consider pre-processing your data with StandardScaler or MinMaxScaler.\n",
      "  % self.max_iter, ConvergenceWarning)\n"
     ]
    }
   ],
   "source": [
    "best_model_dict = {'Best support vector classifier': best_model}\n",
    "bmt = BinaryModelTraining(X_train, X_test, y_train, y_test)\n",
    "y_pred_results, y_pred_proba_results = bmt.train(best_model_dict)\n",
    "bcm = BinaryClassMetrics(best_model_dict, y_pred_results, y_pred_proba_results)\n",
    "bcm.compute_rmse(y_test)"
   ]
  },
  {
   "cell_type": "code",
   "execution_count": 41,
   "metadata": {},
   "outputs": [
    {
     "name": "stdout",
     "output_type": "stream",
     "text": [
      "Confusion matrix for the best support vector classifier model: \n",
      "[[145  12]\n",
      " [ 36  75]]\n",
      "\n"
     ]
    }
   ],
   "source": [
    "bcm.compute_confusion_matrix(y_test)"
   ]
  },
  {
   "cell_type": "code",
   "execution_count": 42,
   "metadata": {},
   "outputs": [
    {
     "name": "stdout",
     "output_type": "stream",
     "text": [
      "Precision, recall, F-measure and support for the best support vector classifier model: \n",
      "              precision    recall  f1-score   support\n",
      "\n",
      "           0       0.80      0.92      0.86       157\n",
      "           1       0.86      0.68      0.76       111\n",
      "\n",
      "    accuracy                           0.82       268\n",
      "   macro avg       0.83      0.80      0.81       268\n",
      "weighted avg       0.83      0.82      0.82       268\n",
      "\n",
      "\n"
     ]
    }
   ],
   "source": [
    "bcm.compute_classification_report(y_test)"
   ]
  },
  {
   "cell_type": "code",
   "execution_count": 43,
   "metadata": {
    "scrolled": false
   },
   "outputs": [
    {
     "data": {
      "image/png": "[encoded data removed]",
      "text/plain": [
       "<Figure size 720x576 with 1 Axes>"
      ]
     },
     "metadata": {
      "needs_background": "light"
     },
     "output_type": "display_data"
    }
   ],
   "source": [
    "bcm.compute_plots(y_test)"
   ]
  },
  {
   "cell_type": "markdown",
   "metadata": {},
   "source": [
    "### Logistic regression"
   ]
  },
  {
   "cell_type": "code",
   "execution_count": 44,
   "metadata": {},
   "outputs": [],
   "source": [
    "log_reg = LogisticRegression()"
   ]
  },
  {
   "cell_type": "code",
   "execution_count": 45,
   "metadata": {},
   "outputs": [],
   "source": [
    "param_grid = [{'penalty': ['l2'], 'C': [0.1, 1.0, 10], 'intercept_scaling': [1], \\\n",
    "               'class_weight': ['balanced'], 'random_state': [42], \\\n",
    "               'solver': ['newton-cg', 'lbfgs', 'liblinear', 'sag', 'saga'],  'warm_start': [True], \\\n",
    "               'max_iter': [100, 1000, 10000]}]"
   ]
  },
  {
   "cell_type": "code",
   "execution_count": 46,
   "metadata": {},
   "outputs": [],
   "source": [
    "grid_search = BestParameterSearch(log_reg, param_grid, scoring='neg_mean_squared_error', cv=5, \\\n",
    "                                  return_train_score=True)"
   ]
  },
  {
   "cell_type": "code",
   "execution_count": 47,
   "metadata": {
    "scrolled": false
   },
   "outputs": [
    {
     "name": "stderr",
     "output_type": "stream",
     "text": [
      "/Applications/Computation/miniconda3/lib/python3.7/site-packages/sklearn/model_selection/_split.py:1978: FutureWarning: The default value of cv will change from 3 to 5 in version 0.22. Specify it explicitly to silence this warning.\n",
      "  warnings.warn(CV_WARNING, FutureWarning)\n"
     ]
    }
   ],
   "source": [
    "best_model, best_params_df = grid_search.best_fit_results(X_train, y_train)"
   ]
  },
  {
   "cell_type": "code",
   "execution_count": 48,
   "metadata": {},
   "outputs": [
    {
     "data": {
      "text/plain": [
       "LogisticRegression(C=1.0, class_weight='balanced', dual=False,\n",
       "                   fit_intercept=True, intercept_scaling=1, l1_ratio=None,\n",
       "                   max_iter=100, multi_class='warn', n_jobs=None, penalty='l2',\n",
       "                   random_state=42, solver='newton-cg', tol=0.0001, verbose=0,\n",
       "                   warm_start=True)"
      ]
     },
     "execution_count": 48,
     "metadata": {},
     "output_type": "execute_result"
    }
   ],
   "source": [
    "best_model"
   ]
  },
  {
   "cell_type": "code",
   "execution_count": 49,
   "metadata": {},
   "outputs": [
    {
     "data": {
      "text/html": [
       "<div>\n",
       "<style scoped>\n",
       "    .dataframe tbody tr th:only-of-type {\n",
       "        vertical-align: middle;\n",
       "    }\n",
       "\n",
       "    .dataframe tbody tr th {\n",
       "        vertical-align: top;\n",
       "    }\n",
       "\n",
       "    .dataframe thead th {\n",
       "        text-align: right;\n",
       "    }\n",
       "</style>\n",
       "<table border=\"1\" class=\"dataframe\">\n",
       "  <thead>\n",
       "    <tr style=\"text-align: right;\">\n",
       "      <th></th>\n",
       "      <th>RMSE</th>\n",
       "      <th>Parameters</th>\n",
       "    </tr>\n",
       "  </thead>\n",
       "  <tbody>\n",
       "    <tr>\n",
       "      <th>0</th>\n",
       "      <td>0.440706</td>\n",
       "      <td>{'C': 1.0, 'class_weight': 'balanced', 'intercept_scaling': 1, 'max_iter': 1000, 'penalty': 'l2', 'random_state': 42, 'solver': 'liblinear', 'warm_start': True}</td>\n",
       "    </tr>\n",
       "    <tr>\n",
       "      <th>1</th>\n",
       "      <td>0.440706</td>\n",
       "      <td>{'C': 1.0, 'class_weight': 'balanced', 'intercept_scaling': 1, 'max_iter': 10000, 'penalty': 'l2', 'random_state': 42, 'solver': 'newton-cg', 'warm_start': True}</td>\n",
       "    </tr>\n",
       "    <tr>\n",
       "      <th>2</th>\n",
       "      <td>0.440706</td>\n",
       "      <td>{'C': 1.0, 'class_weight': 'balanced', 'intercept_scaling': 1, 'max_iter': 1000, 'penalty': 'l2', 'random_state': 42, 'solver': 'saga', 'warm_start': True}</td>\n",
       "    </tr>\n",
       "    <tr>\n",
       "      <th>3</th>\n",
       "      <td>0.440706</td>\n",
       "      <td>{'C': 1.0, 'class_weight': 'balanced', 'intercept_scaling': 1, 'max_iter': 1000, 'penalty': 'l2', 'random_state': 42, 'solver': 'sag', 'warm_start': True}</td>\n",
       "    </tr>\n",
       "    <tr>\n",
       "      <th>4</th>\n",
       "      <td>0.440706</td>\n",
       "      <td>{'C': 1.0, 'class_weight': 'balanced', 'intercept_scaling': 1, 'max_iter': 10000, 'penalty': 'l2', 'random_state': 42, 'solver': 'sag', 'warm_start': True}</td>\n",
       "    </tr>\n",
       "    <tr>\n",
       "      <th>5</th>\n",
       "      <td>0.440706</td>\n",
       "      <td>{'C': 1.0, 'class_weight': 'balanced', 'intercept_scaling': 1, 'max_iter': 1000, 'penalty': 'l2', 'random_state': 42, 'solver': 'lbfgs', 'warm_start': True}</td>\n",
       "    </tr>\n",
       "    <tr>\n",
       "      <th>6</th>\n",
       "      <td>0.440706</td>\n",
       "      <td>{'C': 1.0, 'class_weight': 'balanced', 'intercept_scaling': 1, 'max_iter': 1000, 'penalty': 'l2', 'random_state': 42, 'solver': 'newton-cg', 'warm_start': True}</td>\n",
       "    </tr>\n",
       "    <tr>\n",
       "      <th>7</th>\n",
       "      <td>0.440706</td>\n",
       "      <td>{'C': 1.0, 'class_weight': 'balanced', 'intercept_scaling': 1, 'max_iter': 100, 'penalty': 'l2', 'random_state': 42, 'solver': 'saga', 'warm_start': True}</td>\n",
       "    </tr>\n",
       "    <tr>\n",
       "      <th>8</th>\n",
       "      <td>0.440706</td>\n",
       "      <td>{'C': 1.0, 'class_weight': 'balanced', 'intercept_scaling': 1, 'max_iter': 100, 'penalty': 'l2', 'random_state': 42, 'solver': 'sag', 'warm_start': True}</td>\n",
       "    </tr>\n",
       "    <tr>\n",
       "      <th>9</th>\n",
       "      <td>0.440706</td>\n",
       "      <td>{'C': 1.0, 'class_weight': 'balanced', 'intercept_scaling': 1, 'max_iter': 100, 'penalty': 'l2', 'random_state': 42, 'solver': 'liblinear', 'warm_start': True}</td>\n",
       "    </tr>\n",
       "  </tbody>\n",
       "</table>\n",
       "</div>"
      ],
      "text/plain": [
       "       RMSE  \\\n",
       "0  0.440706   \n",
       "1  0.440706   \n",
       "2  0.440706   \n",
       "3  0.440706   \n",
       "4  0.440706   \n",
       "5  0.440706   \n",
       "6  0.440706   \n",
       "7  0.440706   \n",
       "8  0.440706   \n",
       "9  0.440706   \n",
       "\n",
       "                                                                                                                                                          Parameters  \n",
       "0  {'C': 1.0, 'class_weight': 'balanced', 'intercept_scaling': 1, 'max_iter': 1000, 'penalty': 'l2', 'random_state': 42, 'solver': 'liblinear', 'warm_start': True}   \n",
       "1  {'C': 1.0, 'class_weight': 'balanced', 'intercept_scaling': 1, 'max_iter': 10000, 'penalty': 'l2', 'random_state': 42, 'solver': 'newton-cg', 'warm_start': True}  \n",
       "2  {'C': 1.0, 'class_weight': 'balanced', 'intercept_scaling': 1, 'max_iter': 1000, 'penalty': 'l2', 'random_state': 42, 'solver': 'saga', 'warm_start': True}        \n",
       "3  {'C': 1.0, 'class_weight': 'balanced', 'intercept_scaling': 1, 'max_iter': 1000, 'penalty': 'l2', 'random_state': 42, 'solver': 'sag', 'warm_start': True}         \n",
       "4  {'C': 1.0, 'class_weight': 'balanced', 'intercept_scaling': 1, 'max_iter': 10000, 'penalty': 'l2', 'random_state': 42, 'solver': 'sag', 'warm_start': True}        \n",
       "5  {'C': 1.0, 'class_weight': 'balanced', 'intercept_scaling': 1, 'max_iter': 1000, 'penalty': 'l2', 'random_state': 42, 'solver': 'lbfgs', 'warm_start': True}       \n",
       "6  {'C': 1.0, 'class_weight': 'balanced', 'intercept_scaling': 1, 'max_iter': 1000, 'penalty': 'l2', 'random_state': 42, 'solver': 'newton-cg', 'warm_start': True}   \n",
       "7  {'C': 1.0, 'class_weight': 'balanced', 'intercept_scaling': 1, 'max_iter': 100, 'penalty': 'l2', 'random_state': 42, 'solver': 'saga', 'warm_start': True}         \n",
       "8  {'C': 1.0, 'class_weight': 'balanced', 'intercept_scaling': 1, 'max_iter': 100, 'penalty': 'l2', 'random_state': 42, 'solver': 'sag', 'warm_start': True}          \n",
       "9  {'C': 1.0, 'class_weight': 'balanced', 'intercept_scaling': 1, 'max_iter': 100, 'penalty': 'l2', 'random_state': 42, 'solver': 'liblinear', 'warm_start': True}    "
      ]
     },
     "execution_count": 49,
     "metadata": {},
     "output_type": "execute_result"
    }
   ],
   "source": [
    "best_params_df.head(10)"
   ]
  },
  {
   "cell_type": "code",
   "execution_count": 50,
   "metadata": {},
   "outputs": [
    {
     "name": "stdout",
     "output_type": "stream",
     "text": [
      "Accuracy of the best logistic regression on test set: 0.8172\n",
      "Time elapsed for training: 0.01 seconds\n",
      "\n",
      "Root mean square error for the best logistic regression model: 0.428\n",
      "\n"
     ]
    }
   ],
   "source": [
    "best_model_dict = {'Best logistic regression': best_model}\n",
    "bmt = BinaryModelTraining(X_train, X_test, y_train, y_test)\n",
    "y_pred_results, y_pred_proba_results = bmt.train(best_model_dict)\n",
    "bcm = BinaryClassMetrics(best_model_dict, y_pred_results, y_pred_proba_results)\n",
    "bcm.compute_rmse(y_test)"
   ]
  },
  {
   "cell_type": "code",
   "execution_count": 51,
   "metadata": {},
   "outputs": [
    {
     "name": "stdout",
     "output_type": "stream",
     "text": [
      "Confusion matrix for the best logistic regression model: \n",
      "[[130  27]\n",
      " [ 22  89]]\n",
      "\n"
     ]
    }
   ],
   "source": [
    "bcm.compute_confusion_matrix(y_test)"
   ]
  },
  {
   "cell_type": "code",
   "execution_count": 52,
   "metadata": {},
   "outputs": [
    {
     "name": "stdout",
     "output_type": "stream",
     "text": [
      "Precision, recall, F-measure and support for the best logistic regression model: \n",
      "              precision    recall  f1-score   support\n",
      "\n",
      "           0       0.86      0.83      0.84       157\n",
      "           1       0.77      0.80      0.78       111\n",
      "\n",
      "    accuracy                           0.82       268\n",
      "   macro avg       0.81      0.81      0.81       268\n",
      "weighted avg       0.82      0.82      0.82       268\n",
      "\n",
      "\n"
     ]
    }
   ],
   "source": [
    "bcm.compute_classification_report(y_test)"
   ]
  },
  {
   "cell_type": "code",
   "execution_count": 53,
   "metadata": {},
   "outputs": [
    {
     "data": {
      "image/png": "[encoded data removed]",
      "text/plain": [
       "<Figure size 720x576 with 1 Axes>"
      ]
     },
     "metadata": {
      "needs_background": "light"
     },
     "output_type": "display_data"
    }
   ],
   "source": [
    "bcm.compute_plots(y_test)"
   ]
  },
  {
   "cell_type": "markdown",
   "metadata": {},
   "source": [
    "## Randomized grid search"
   ]
  },
  {
   "cell_type": "code",
   "execution_count": 83,
   "metadata": {},
   "outputs": [],
   "source": [
    "from sklearn.model_selection import RandomizedSearchCV"
   ]
  },
  {
   "cell_type": "code",
   "execution_count": 94,
   "metadata": {},
   "outputs": [],
   "source": [
    "param_grid = {'penalty': ['l2'], 'C': [0.1, 1.0, 10, 20, 50, 100], 'intercept_scaling': [1], \\\n",
    "               'class_weight': ['balanced'], 'random_state': [42], \\\n",
    "               'solver': ['newton-cg', 'lbfgs', 'liblinear', 'sag', 'saga'],  'warm_start': [True], \\\n",
    "               'max_iter': [100, 1000, 10000, 100000, 1000000]}"
   ]
  },
  {
   "cell_type": "code",
   "execution_count": 95,
   "metadata": {},
   "outputs": [],
   "source": [
    "randomized_search = RandomizedSearchCV(log_reg, n_jobs=-1, n_iter=10, param_distributions=param_grid, cv=5, \\\n",
    "                                      return_train_score=True)"
   ]
  },
  {
   "cell_type": "code",
   "execution_count": 96,
   "metadata": {},
   "outputs": [
    {
     "data": {
      "text/plain": [
       "RandomizedSearchCV(cv=5, error_score='raise-deprecating',\n",
       "                   estimator=LogisticRegression(C=1.0, class_weight=None,\n",
       "                                                dual=False, fit_intercept=True,\n",
       "                                                intercept_scaling=1,\n",
       "                                                l1_ratio=None, max_iter=100,\n",
       "                                                multi_class='warn', n_jobs=None,\n",
       "                                                penalty='l2', random_state=None,\n",
       "                                                solver='warn', tol=0.0001,\n",
       "                                                verbose=0, warm_start=False),\n",
       "                   iid='warn', n_iter=10, n_jobs=-1,\n",
       "                   param_distributions={'C': [0.1, 1.0, 10, 20, 50, 100],\n",
       "                                        'class_weight': ['balanced'],\n",
       "                                        'intercept_scaling': [1],\n",
       "                                        'max_iter': [100, 1000, 10000, 100000,\n",
       "                                                     1000000],\n",
       "                                        'penalty': ['l2'], 'random_state': [42],\n",
       "                                        'solver': ['newton-cg', 'lbfgs',\n",
       "                                                   'liblinear', 'sag', 'saga'],\n",
       "                                        'warm_start': [True]},\n",
       "                   pre_dispatch='2*n_jobs', random_state=None, refit=True,\n",
       "                   return_train_score=True, scoring=None, verbose=0)"
      ]
     },
     "execution_count": 96,
     "metadata": {},
     "output_type": "execute_result"
    }
   ],
   "source": [
    "randomized_search.fit(X_train, y_train)"
   ]
  },
  {
   "cell_type": "code",
   "execution_count": 97,
   "metadata": {},
   "outputs": [
    {
     "data": {
      "text/plain": [
       "LogisticRegression(C=10, class_weight='balanced', dual=False,\n",
       "                   fit_intercept=True, intercept_scaling=1, l1_ratio=None,\n",
       "                   max_iter=100000, multi_class='warn', n_jobs=None,\n",
       "                   penalty='l2', random_state=42, solver='lbfgs', tol=0.0001,\n",
       "                   verbose=0, warm_start=True)"
      ]
     },
     "execution_count": 97,
     "metadata": {},
     "output_type": "execute_result"
    }
   ],
   "source": [
    "randomized_search.best_estimator_"
   ]
  },
  {
   "cell_type": "code",
   "execution_count": 98,
   "metadata": {},
   "outputs": [],
   "source": [
    "cvres = randomized_search.cv_results_"
   ]
  },
  {
   "cell_type": "code",
   "execution_count": 99,
   "metadata": {},
   "outputs": [],
   "source": [
    "results = []\n",
    "for mean_score, params in zip(cvres['mean_test_score'], cvres['params']):\n",
    "    results.append({'RMSE': np.sqrt(mean_score), 'Parameters': params})\n",
    "    best_params_df = pd.DataFrame(results).sort_values(by='RMSE', ascending=True).reset_index(drop=True)"
   ]
  },
  {
   "cell_type": "code",
   "execution_count": 100,
   "metadata": {},
   "outputs": [
    {
     "data": {
      "text/html": [
       "<div>\n",
       "<style scoped>\n",
       "    .dataframe tbody tr th:only-of-type {\n",
       "        vertical-align: middle;\n",
       "    }\n",
       "\n",
       "    .dataframe tbody tr th {\n",
       "        vertical-align: top;\n",
       "    }\n",
       "\n",
       "    .dataframe thead th {\n",
       "        text-align: right;\n",
       "    }\n",
       "</style>\n",
       "<table border=\"1\" class=\"dataframe\">\n",
       "  <thead>\n",
       "    <tr style=\"text-align: right;\">\n",
       "      <th></th>\n",
       "      <th>RMSE</th>\n",
       "      <th>Parameters</th>\n",
       "    </tr>\n",
       "  </thead>\n",
       "  <tbody>\n",
       "    <tr>\n",
       "      <th>0</th>\n",
       "      <td>0.892271</td>\n",
       "      <td>{'warm_start': True, 'solver': 'lbfgs', 'random_state': 42, 'penalty': 'l2', 'max_iter': 1000000, 'intercept_scaling': 1, 'class_weight': 'balanced', 'C': 0.1}</td>\n",
       "    </tr>\n",
       "    <tr>\n",
       "      <th>1</th>\n",
       "      <td>0.892271</td>\n",
       "      <td>{'warm_start': True, 'solver': 'sag', 'random_state': 42, 'penalty': 'l2', 'max_iter': 1000000, 'intercept_scaling': 1, 'class_weight': 'balanced', 'C': 0.1}</td>\n",
       "    </tr>\n",
       "    <tr>\n",
       "      <th>2</th>\n",
       "      <td>0.900330</td>\n",
       "      <td>{'warm_start': True, 'solver': 'lbfgs', 'random_state': 42, 'penalty': 'l2', 'max_iter': 100000, 'intercept_scaling': 1, 'class_weight': 'balanced', 'C': 10}</td>\n",
       "    </tr>\n",
       "    <tr>\n",
       "      <th>3</th>\n",
       "      <td>0.900330</td>\n",
       "      <td>{'warm_start': True, 'solver': 'newton-cg', 'random_state': 42, 'penalty': 'l2', 'max_iter': 1000, 'intercept_scaling': 1, 'class_weight': 'balanced', 'C': 10}</td>\n",
       "    </tr>\n",
       "    <tr>\n",
       "      <th>4</th>\n",
       "      <td>0.900330</td>\n",
       "      <td>{'warm_start': True, 'solver': 'liblinear', 'random_state': 42, 'penalty': 'l2', 'max_iter': 1000, 'intercept_scaling': 1, 'class_weight': 'balanced', 'C': 100}</td>\n",
       "    </tr>\n",
       "    <tr>\n",
       "      <th>5</th>\n",
       "      <td>0.900330</td>\n",
       "      <td>{'warm_start': True, 'solver': 'newton-cg', 'random_state': 42, 'penalty': 'l2', 'max_iter': 100000, 'intercept_scaling': 1, 'class_weight': 'balanced', 'C': 20}</td>\n",
       "    </tr>\n",
       "    <tr>\n",
       "      <th>6</th>\n",
       "      <td>0.900330</td>\n",
       "      <td>{'warm_start': True, 'solver': 'sag', 'random_state': 42, 'penalty': 'l2', 'max_iter': 1000000, 'intercept_scaling': 1, 'class_weight': 'balanced', 'C': 20}</td>\n",
       "    </tr>\n",
       "    <tr>\n",
       "      <th>7</th>\n",
       "      <td>0.900330</td>\n",
       "      <td>{'warm_start': True, 'solver': 'liblinear', 'random_state': 42, 'penalty': 'l2', 'max_iter': 1000, 'intercept_scaling': 1, 'class_weight': 'balanced', 'C': 1.0}</td>\n",
       "    </tr>\n",
       "    <tr>\n",
       "      <th>8</th>\n",
       "      <td>0.900330</td>\n",
       "      <td>{'warm_start': True, 'solver': 'saga', 'random_state': 42, 'penalty': 'l2', 'max_iter': 100, 'intercept_scaling': 1, 'class_weight': 'balanced', 'C': 50}</td>\n",
       "    </tr>\n",
       "    <tr>\n",
       "      <th>9</th>\n",
       "      <td>0.900330</td>\n",
       "      <td>{'warm_start': True, 'solver': 'newton-cg', 'random_state': 42, 'penalty': 'l2', 'max_iter': 100000, 'intercept_scaling': 1, 'class_weight': 'balanced', 'C': 10}</td>\n",
       "    </tr>\n",
       "  </tbody>\n",
       "</table>\n",
       "</div>"
      ],
      "text/plain": [
       "       RMSE  \\\n",
       "0  0.892271   \n",
       "1  0.892271   \n",
       "2  0.900330   \n",
       "3  0.900330   \n",
       "4  0.900330   \n",
       "5  0.900330   \n",
       "6  0.900330   \n",
       "7  0.900330   \n",
       "8  0.900330   \n",
       "9  0.900330   \n",
       "\n",
       "                                                                                                                                                          Parameters  \n",
       "0  {'warm_start': True, 'solver': 'lbfgs', 'random_state': 42, 'penalty': 'l2', 'max_iter': 1000000, 'intercept_scaling': 1, 'class_weight': 'balanced', 'C': 0.1}    \n",
       "1  {'warm_start': True, 'solver': 'sag', 'random_state': 42, 'penalty': 'l2', 'max_iter': 1000000, 'intercept_scaling': 1, 'class_weight': 'balanced', 'C': 0.1}      \n",
       "2  {'warm_start': True, 'solver': 'lbfgs', 'random_state': 42, 'penalty': 'l2', 'max_iter': 100000, 'intercept_scaling': 1, 'class_weight': 'balanced', 'C': 10}      \n",
       "3  {'warm_start': True, 'solver': 'newton-cg', 'random_state': 42, 'penalty': 'l2', 'max_iter': 1000, 'intercept_scaling': 1, 'class_weight': 'balanced', 'C': 10}    \n",
       "4  {'warm_start': True, 'solver': 'liblinear', 'random_state': 42, 'penalty': 'l2', 'max_iter': 1000, 'intercept_scaling': 1, 'class_weight': 'balanced', 'C': 100}   \n",
       "5  {'warm_start': True, 'solver': 'newton-cg', 'random_state': 42, 'penalty': 'l2', 'max_iter': 100000, 'intercept_scaling': 1, 'class_weight': 'balanced', 'C': 20}  \n",
       "6  {'warm_start': True, 'solver': 'sag', 'random_state': 42, 'penalty': 'l2', 'max_iter': 1000000, 'intercept_scaling': 1, 'class_weight': 'balanced', 'C': 20}       \n",
       "7  {'warm_start': True, 'solver': 'liblinear', 'random_state': 42, 'penalty': 'l2', 'max_iter': 1000, 'intercept_scaling': 1, 'class_weight': 'balanced', 'C': 1.0}   \n",
       "8  {'warm_start': True, 'solver': 'saga', 'random_state': 42, 'penalty': 'l2', 'max_iter': 100, 'intercept_scaling': 1, 'class_weight': 'balanced', 'C': 50}          \n",
       "9  {'warm_start': True, 'solver': 'newton-cg', 'random_state': 42, 'penalty': 'l2', 'max_iter': 100000, 'intercept_scaling': 1, 'class_weight': 'balanced', 'C': 10}  "
      ]
     },
     "execution_count": 100,
     "metadata": {},
     "output_type": "execute_result"
    }
   ],
   "source": [
    "best_params_df.head(20)"
   ]
  },
  {
   "cell_type": "code",
   "execution_count": null,
   "metadata": {},
   "outputs": [],
   "source": []
  }
 ],
 "metadata": {
  "kernelspec": {
   "display_name": "Python 3",
   "language": "python",
   "name": "python3"
  },
  "language_info": {
   "codemirror_mode": {
    "name": "ipython",
    "version": 3
   },
   "file_extension": ".py",
   "mimetype": "text/x-python",
   "name": "python",
   "nbconvert_exporter": "python",
   "pygments_lexer": "ipython3",
   "version": "3.7.4"
  }
 },
 "nbformat": 4,
 "nbformat_minor": 2
}
