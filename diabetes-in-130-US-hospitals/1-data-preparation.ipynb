{
 "cells": [
  {
   "cell_type": "markdown",
   "metadata": {},
   "source": [
    "# Diabetes in 130 US hospitals for the years 1999 to 2008\n",
    "\n",
    "**Abstract**: This data has been prepared to analyze factors related to readmission as well as other outcomes pertaining to patients with diabetes.\n",
    "\n",
    "**Data Set Information**: The dataset represents 10 years (1999-2008) of clinical care at 130 US hospitals and integrated delivery networks. It includes over 50 features representing patient and hospital outcomes. Information was extracted from the database for encounters that satisfied the following criteria.\n",
    "\n",
    " 1. It is an inpatient encounter (a hospital admission).\n",
    " 2. It is a diabetic encounter, that is, one during which any kind of diabetes was entered to the system as a diagnosis.\n",
    " 3. The length of stay was at least 1 day and at most 14 days.\n",
    " 4. Laboratory tests were performed during the encounter.\n",
    " 5. Medications were administered during the encounter.\n",
    "\n",
    "The data contains such attributes as patient number, race, gender, age, admission type, time in hospital, medical specialty of admitting physician, number of lab test performed, HbA1c test result, diagnosis, number of medication, diabetic medications, number of outpatient, inpatient, and emergency visits in the year before the hospitalization, etc.\n",
    "\n",
    "More information can be found at the [Diabetes 130-US hospitals for years 1999-2008 data set - UCI Machine Learning Repository](https://archive.ics.uci.edu/ml/datasets/Diabetes+130-US+hospitals+for+years+1999-2008) web site."
   ]
  },
  {
   "cell_type": "markdown",
   "metadata": {},
   "source": [
    " - [Summary of data preparation](#Summary-of-data-preparation)\n",
    " - [Loading data](#Loading-data)\n",
    " - [Exploratory data analysis](#Exploratory-data-analysis)\n",
    " - [Data cleaning](#Data-cleaning)\n",
    "   - [Removing null and bias values](#Removing-null-and-bias-values)\n",
    "   - [Grouping primary diagnosis values into group categories](#Grouping-primary-diagnosis-values-into-group-categories)\n",
    "   - [Grouping '> 30 days' and `< 30 days' into the 'Yes' category in the 'readmitted' column](#Grouping-%3E-30-days-and-%3C-30-days-into-the-Yes-category-in-the-readmitted-column)\n",
    "   - [Converting categorical variables into dummy variables](#Converting-categorical-variables-into-dummy-variables)\n",
    " - [Saving results](#Saving-results)"
   ]
  },
  {
   "cell_type": "markdown",
   "metadata": {},
   "source": [
    "# Summary of data preparation\n",
    "\n",
    " - Converting the `admission_type_id` ,`discharge_disposition_id` and `admission_source_id` numerical columns to categorical values.\n",
    " - All of the `object` values, which are text values in the CSV file, are converted to categorical values.\n",
    " - In the `Exploratory data analysis` section, we remove: \n",
    "   - all `NaN` values from the data, and the `Unknown/Invalid` category from the `Gender` category,\n",
    "   - `weight`, `medical_specialty` and `payer_code` columns due to the large presence of `NaN` values,\n",
    "   - `encounter_id` column since it isn't relevant to the analysis,\n",
    "   - not available, null, not mapped and unknown/invaild admission type and admission source IDs,\n",
    "   - duplicate patient data to mantain the statistical independence of the data, required by logistic regression, after which the `patient_nbr` column is dropped.\n",
    "   - all patient data related to discharge to a hospice or patient death are removed to avoid biases. Null patient values are remove as well.\n",
    " - `diag_1`, `diag_2` and `diag_3` are encoded into nine major groups: `circulatory`, `respiratory`, `digestive`, `diabetes`, `injury`, `musculoskeletal`, `genitourinary`, `neoplasms` and `others`.\n",
    " - Finally, all remaining `NaN` values are dropped.\n",
    " - `readmitted` column is divided into two `0` and `1` categories, where the `1` category groups the two `< 30 days` and `> 30 days` cases together.\n",
    " - Dummy variables are created for all columns except for the eight numerical columns: `time_in_hospital`, `num_lab_procedures`, `num_medications`, `number_outpatient`, `number_emergency`, `number_inpatient`, `number_diagnoses` and `readmitted`."
   ]
  },
  {
   "cell_type": "code",
   "execution_count": 1,
   "metadata": {},
   "outputs": [],
   "source": [
    "import numpy as np\n",
    "import pandas as pd\n",
    "import matplotlib.pyplot as plt\n",
    "%matplotlib notebook"
   ]
  },
  {
   "cell_type": "code",
   "execution_count": 2,
   "metadata": {},
   "outputs": [],
   "source": [
    "pd.set_option('display.max_columns', None)\n",
    "pd.set_option('display.max_colwidth', -1)"
   ]
  },
  {
   "cell_type": "markdown",
   "metadata": {},
   "source": [
    "# Loading data"
   ]
  },
  {
   "cell_type": "code",
   "execution_count": 3,
   "metadata": {},
   "outputs": [],
   "source": [
    "df = pd.read_csv('data/diabetic_data.csv', na_values='?', low_memory=False)\n",
    "obj_cols = list(df.select_dtypes('object').columns)\n",
    "df[obj_cols] = df[obj_cols].astype('category')"
   ]
  },
  {
   "cell_type": "markdown",
   "metadata": {},
   "source": [
    "Converting the `admission_type_id` ,`discharge_disposition_id` and `admission_source_id` numerical columns to categorical values."
   ]
  },
  {
   "cell_type": "code",
   "execution_count": 4,
   "metadata": {},
   "outputs": [],
   "source": [
    "id_list = ['admission_type_id' ,'discharge_disposition_id', 'admission_source_id']\n",
    "df.loc[:, id_list] = df.loc[:, id_list].astype('category')"
   ]
  },
  {
   "cell_type": "code",
   "execution_count": 5,
   "metadata": {},
   "outputs": [
    {
     "data": {
      "text/html": [
       "<div>\n",
       "<style scoped>\n",
       "    .dataframe tbody tr th:only-of-type {\n",
       "        vertical-align: middle;\n",
       "    }\n",
       "\n",
       "    .dataframe tbody tr th {\n",
       "        vertical-align: top;\n",
       "    }\n",
       "\n",
       "    .dataframe thead th {\n",
       "        text-align: right;\n",
       "    }\n",
       "</style>\n",
       "<table border=\"1\" class=\"dataframe\">\n",
       "  <thead>\n",
       "    <tr style=\"text-align: right;\">\n",
       "      <th></th>\n",
       "      <th>encounter_id</th>\n",
       "      <th>patient_nbr</th>\n",
       "      <th>race</th>\n",
       "      <th>gender</th>\n",
       "      <th>age</th>\n",
       "      <th>weight</th>\n",
       "      <th>admission_type_id</th>\n",
       "      <th>discharge_disposition_id</th>\n",
       "      <th>admission_source_id</th>\n",
       "      <th>time_in_hospital</th>\n",
       "      <th>payer_code</th>\n",
       "      <th>medical_specialty</th>\n",
       "      <th>num_lab_procedures</th>\n",
       "      <th>num_procedures</th>\n",
       "      <th>num_medications</th>\n",
       "      <th>number_outpatient</th>\n",
       "      <th>number_emergency</th>\n",
       "      <th>number_inpatient</th>\n",
       "      <th>diag_1</th>\n",
       "      <th>diag_2</th>\n",
       "      <th>diag_3</th>\n",
       "      <th>number_diagnoses</th>\n",
       "      <th>max_glu_serum</th>\n",
       "      <th>A1Cresult</th>\n",
       "      <th>metformin</th>\n",
       "      <th>repaglinide</th>\n",
       "      <th>nateglinide</th>\n",
       "      <th>chlorpropamide</th>\n",
       "      <th>glimepiride</th>\n",
       "      <th>acetohexamide</th>\n",
       "      <th>glipizide</th>\n",
       "      <th>glyburide</th>\n",
       "      <th>tolbutamide</th>\n",
       "      <th>pioglitazone</th>\n",
       "      <th>rosiglitazone</th>\n",
       "      <th>acarbose</th>\n",
       "      <th>miglitol</th>\n",
       "      <th>troglitazone</th>\n",
       "      <th>tolazamide</th>\n",
       "      <th>examide</th>\n",
       "      <th>citoglipton</th>\n",
       "      <th>insulin</th>\n",
       "      <th>glyburide-metformin</th>\n",
       "      <th>glipizide-metformin</th>\n",
       "      <th>glimepiride-pioglitazone</th>\n",
       "      <th>metformin-rosiglitazone</th>\n",
       "      <th>metformin-pioglitazone</th>\n",
       "      <th>change</th>\n",
       "      <th>diabetesMed</th>\n",
       "      <th>readmitted</th>\n",
       "    </tr>\n",
       "  </thead>\n",
       "  <tbody>\n",
       "    <tr>\n",
       "      <th>0</th>\n",
       "      <td>2278392</td>\n",
       "      <td>8222157</td>\n",
       "      <td>Caucasian</td>\n",
       "      <td>Female</td>\n",
       "      <td>[0-10)</td>\n",
       "      <td>NaN</td>\n",
       "      <td>6</td>\n",
       "      <td>25</td>\n",
       "      <td>1</td>\n",
       "      <td>1</td>\n",
       "      <td>NaN</td>\n",
       "      <td>Pediatrics-Endocrinology</td>\n",
       "      <td>41</td>\n",
       "      <td>0</td>\n",
       "      <td>1</td>\n",
       "      <td>0</td>\n",
       "      <td>0</td>\n",
       "      <td>0</td>\n",
       "      <td>250.83</td>\n",
       "      <td>NaN</td>\n",
       "      <td>NaN</td>\n",
       "      <td>1</td>\n",
       "      <td>None</td>\n",
       "      <td>None</td>\n",
       "      <td>No</td>\n",
       "      <td>No</td>\n",
       "      <td>No</td>\n",
       "      <td>No</td>\n",
       "      <td>No</td>\n",
       "      <td>No</td>\n",
       "      <td>No</td>\n",
       "      <td>No</td>\n",
       "      <td>No</td>\n",
       "      <td>No</td>\n",
       "      <td>No</td>\n",
       "      <td>No</td>\n",
       "      <td>No</td>\n",
       "      <td>No</td>\n",
       "      <td>No</td>\n",
       "      <td>No</td>\n",
       "      <td>No</td>\n",
       "      <td>No</td>\n",
       "      <td>No</td>\n",
       "      <td>No</td>\n",
       "      <td>No</td>\n",
       "      <td>No</td>\n",
       "      <td>No</td>\n",
       "      <td>No</td>\n",
       "      <td>No</td>\n",
       "      <td>NO</td>\n",
       "    </tr>\n",
       "    <tr>\n",
       "      <th>1</th>\n",
       "      <td>149190</td>\n",
       "      <td>55629189</td>\n",
       "      <td>Caucasian</td>\n",
       "      <td>Female</td>\n",
       "      <td>[10-20)</td>\n",
       "      <td>NaN</td>\n",
       "      <td>1</td>\n",
       "      <td>1</td>\n",
       "      <td>7</td>\n",
       "      <td>3</td>\n",
       "      <td>NaN</td>\n",
       "      <td>NaN</td>\n",
       "      <td>59</td>\n",
       "      <td>0</td>\n",
       "      <td>18</td>\n",
       "      <td>0</td>\n",
       "      <td>0</td>\n",
       "      <td>0</td>\n",
       "      <td>276</td>\n",
       "      <td>250.01</td>\n",
       "      <td>255</td>\n",
       "      <td>9</td>\n",
       "      <td>None</td>\n",
       "      <td>None</td>\n",
       "      <td>No</td>\n",
       "      <td>No</td>\n",
       "      <td>No</td>\n",
       "      <td>No</td>\n",
       "      <td>No</td>\n",
       "      <td>No</td>\n",
       "      <td>No</td>\n",
       "      <td>No</td>\n",
       "      <td>No</td>\n",
       "      <td>No</td>\n",
       "      <td>No</td>\n",
       "      <td>No</td>\n",
       "      <td>No</td>\n",
       "      <td>No</td>\n",
       "      <td>No</td>\n",
       "      <td>No</td>\n",
       "      <td>No</td>\n",
       "      <td>Up</td>\n",
       "      <td>No</td>\n",
       "      <td>No</td>\n",
       "      <td>No</td>\n",
       "      <td>No</td>\n",
       "      <td>No</td>\n",
       "      <td>Ch</td>\n",
       "      <td>Yes</td>\n",
       "      <td>&gt;30</td>\n",
       "    </tr>\n",
       "    <tr>\n",
       "      <th>2</th>\n",
       "      <td>64410</td>\n",
       "      <td>86047875</td>\n",
       "      <td>AfricanAmerican</td>\n",
       "      <td>Female</td>\n",
       "      <td>[20-30)</td>\n",
       "      <td>NaN</td>\n",
       "      <td>1</td>\n",
       "      <td>1</td>\n",
       "      <td>7</td>\n",
       "      <td>2</td>\n",
       "      <td>NaN</td>\n",
       "      <td>NaN</td>\n",
       "      <td>11</td>\n",
       "      <td>5</td>\n",
       "      <td>13</td>\n",
       "      <td>2</td>\n",
       "      <td>0</td>\n",
       "      <td>1</td>\n",
       "      <td>648</td>\n",
       "      <td>250</td>\n",
       "      <td>V27</td>\n",
       "      <td>6</td>\n",
       "      <td>None</td>\n",
       "      <td>None</td>\n",
       "      <td>No</td>\n",
       "      <td>No</td>\n",
       "      <td>No</td>\n",
       "      <td>No</td>\n",
       "      <td>No</td>\n",
       "      <td>No</td>\n",
       "      <td>Steady</td>\n",
       "      <td>No</td>\n",
       "      <td>No</td>\n",
       "      <td>No</td>\n",
       "      <td>No</td>\n",
       "      <td>No</td>\n",
       "      <td>No</td>\n",
       "      <td>No</td>\n",
       "      <td>No</td>\n",
       "      <td>No</td>\n",
       "      <td>No</td>\n",
       "      <td>No</td>\n",
       "      <td>No</td>\n",
       "      <td>No</td>\n",
       "      <td>No</td>\n",
       "      <td>No</td>\n",
       "      <td>No</td>\n",
       "      <td>No</td>\n",
       "      <td>Yes</td>\n",
       "      <td>NO</td>\n",
       "    </tr>\n",
       "    <tr>\n",
       "      <th>3</th>\n",
       "      <td>500364</td>\n",
       "      <td>82442376</td>\n",
       "      <td>Caucasian</td>\n",
       "      <td>Male</td>\n",
       "      <td>[30-40)</td>\n",
       "      <td>NaN</td>\n",
       "      <td>1</td>\n",
       "      <td>1</td>\n",
       "      <td>7</td>\n",
       "      <td>2</td>\n",
       "      <td>NaN</td>\n",
       "      <td>NaN</td>\n",
       "      <td>44</td>\n",
       "      <td>1</td>\n",
       "      <td>16</td>\n",
       "      <td>0</td>\n",
       "      <td>0</td>\n",
       "      <td>0</td>\n",
       "      <td>8</td>\n",
       "      <td>250.43</td>\n",
       "      <td>403</td>\n",
       "      <td>7</td>\n",
       "      <td>None</td>\n",
       "      <td>None</td>\n",
       "      <td>No</td>\n",
       "      <td>No</td>\n",
       "      <td>No</td>\n",
       "      <td>No</td>\n",
       "      <td>No</td>\n",
       "      <td>No</td>\n",
       "      <td>No</td>\n",
       "      <td>No</td>\n",
       "      <td>No</td>\n",
       "      <td>No</td>\n",
       "      <td>No</td>\n",
       "      <td>No</td>\n",
       "      <td>No</td>\n",
       "      <td>No</td>\n",
       "      <td>No</td>\n",
       "      <td>No</td>\n",
       "      <td>No</td>\n",
       "      <td>Up</td>\n",
       "      <td>No</td>\n",
       "      <td>No</td>\n",
       "      <td>No</td>\n",
       "      <td>No</td>\n",
       "      <td>No</td>\n",
       "      <td>Ch</td>\n",
       "      <td>Yes</td>\n",
       "      <td>NO</td>\n",
       "    </tr>\n",
       "    <tr>\n",
       "      <th>4</th>\n",
       "      <td>16680</td>\n",
       "      <td>42519267</td>\n",
       "      <td>Caucasian</td>\n",
       "      <td>Male</td>\n",
       "      <td>[40-50)</td>\n",
       "      <td>NaN</td>\n",
       "      <td>1</td>\n",
       "      <td>1</td>\n",
       "      <td>7</td>\n",
       "      <td>1</td>\n",
       "      <td>NaN</td>\n",
       "      <td>NaN</td>\n",
       "      <td>51</td>\n",
       "      <td>0</td>\n",
       "      <td>8</td>\n",
       "      <td>0</td>\n",
       "      <td>0</td>\n",
       "      <td>0</td>\n",
       "      <td>197</td>\n",
       "      <td>157</td>\n",
       "      <td>250</td>\n",
       "      <td>5</td>\n",
       "      <td>None</td>\n",
       "      <td>None</td>\n",
       "      <td>No</td>\n",
       "      <td>No</td>\n",
       "      <td>No</td>\n",
       "      <td>No</td>\n",
       "      <td>No</td>\n",
       "      <td>No</td>\n",
       "      <td>Steady</td>\n",
       "      <td>No</td>\n",
       "      <td>No</td>\n",
       "      <td>No</td>\n",
       "      <td>No</td>\n",
       "      <td>No</td>\n",
       "      <td>No</td>\n",
       "      <td>No</td>\n",
       "      <td>No</td>\n",
       "      <td>No</td>\n",
       "      <td>No</td>\n",
       "      <td>Steady</td>\n",
       "      <td>No</td>\n",
       "      <td>No</td>\n",
       "      <td>No</td>\n",
       "      <td>No</td>\n",
       "      <td>No</td>\n",
       "      <td>Ch</td>\n",
       "      <td>Yes</td>\n",
       "      <td>NO</td>\n",
       "    </tr>\n",
       "  </tbody>\n",
       "</table>\n",
       "</div>"
      ],
      "text/plain": [
       "   encounter_id  patient_nbr             race  gender      age weight  \\\n",
       "0  2278392       8222157      Caucasian        Female  [0-10)   NaN     \n",
       "1  149190        55629189     Caucasian        Female  [10-20)  NaN     \n",
       "2  64410         86047875     AfricanAmerican  Female  [20-30)  NaN     \n",
       "3  500364        82442376     Caucasian        Male    [30-40)  NaN     \n",
       "4  16680         42519267     Caucasian        Male    [40-50)  NaN     \n",
       "\n",
       "  admission_type_id discharge_disposition_id admission_source_id  \\\n",
       "0  6                 25                       1                    \n",
       "1  1                 1                        7                    \n",
       "2  1                 1                        7                    \n",
       "3  1                 1                        7                    \n",
       "4  1                 1                        7                    \n",
       "\n",
       "   time_in_hospital payer_code         medical_specialty  num_lab_procedures  \\\n",
       "0  1                 NaN        Pediatrics-Endocrinology  41                   \n",
       "1  3                 NaN        NaN                       59                   \n",
       "2  2                 NaN        NaN                       11                   \n",
       "3  2                 NaN        NaN                       44                   \n",
       "4  1                 NaN        NaN                       51                   \n",
       "\n",
       "   num_procedures  num_medications  number_outpatient  number_emergency  \\\n",
       "0  0               1                0                  0                  \n",
       "1  0               18               0                  0                  \n",
       "2  5               13               2                  0                  \n",
       "3  1               16               0                  0                  \n",
       "4  0               8                0                  0                  \n",
       "\n",
       "   number_inpatient  diag_1  diag_2 diag_3  number_diagnoses max_glu_serum  \\\n",
       "0  0                 250.83  NaN     NaN    1                 None           \n",
       "1  0                 276     250.01  255    9                 None           \n",
       "2  1                 648     250     V27    6                 None           \n",
       "3  0                 8       250.43  403    7                 None           \n",
       "4  0                 197     157     250    5                 None           \n",
       "\n",
       "  A1Cresult metformin repaglinide nateglinide chlorpropamide glimepiride  \\\n",
       "0  None      No        No          No          No             No           \n",
       "1  None      No        No          No          No             No           \n",
       "2  None      No        No          No          No             No           \n",
       "3  None      No        No          No          No             No           \n",
       "4  None      No        No          No          No             No           \n",
       "\n",
       "  acetohexamide glipizide glyburide tolbutamide pioglitazone rosiglitazone  \\\n",
       "0  No            No        No        No          No           No             \n",
       "1  No            No        No        No          No           No             \n",
       "2  No            Steady    No        No          No           No             \n",
       "3  No            No        No        No          No           No             \n",
       "4  No            Steady    No        No          No           No             \n",
       "\n",
       "  acarbose miglitol troglitazone tolazamide examide citoglipton insulin  \\\n",
       "0  No       No       No           No         No      No          No       \n",
       "1  No       No       No           No         No      No          Up       \n",
       "2  No       No       No           No         No      No          No       \n",
       "3  No       No       No           No         No      No          Up       \n",
       "4  No       No       No           No         No      No          Steady   \n",
       "\n",
       "  glyburide-metformin glipizide-metformin glimepiride-pioglitazone  \\\n",
       "0  No                  No                  No                        \n",
       "1  No                  No                  No                        \n",
       "2  No                  No                  No                        \n",
       "3  No                  No                  No                        \n",
       "4  No                  No                  No                        \n",
       "\n",
       "  metformin-rosiglitazone metformin-pioglitazone change diabetesMed readmitted  \n",
       "0  No                      No                     No     No          NO         \n",
       "1  No                      No                     Ch     Yes         >30        \n",
       "2  No                      No                     No     Yes         NO         \n",
       "3  No                      No                     Ch     Yes         NO         \n",
       "4  No                      No                     Ch     Yes         NO         "
      ]
     },
     "execution_count": 5,
     "metadata": {},
     "output_type": "execute_result"
    }
   ],
   "source": [
    "df.head()"
   ]
  },
  {
   "cell_type": "code",
   "execution_count": 6,
   "metadata": {},
   "outputs": [
    {
     "name": "stdout",
     "output_type": "stream",
     "text": [
      "<class 'pandas.core.frame.DataFrame'>\n",
      "RangeIndex: 101766 entries, 0 to 101765\n",
      "Data columns (total 50 columns):\n",
      "encounter_id                101766 non-null int64\n",
      "patient_nbr                 101766 non-null int64\n",
      "race                        99493 non-null category\n",
      "gender                      101766 non-null category\n",
      "age                         101766 non-null category\n",
      "weight                      3197 non-null category\n",
      "admission_type_id           101766 non-null category\n",
      "discharge_disposition_id    101766 non-null category\n",
      "admission_source_id         101766 non-null category\n",
      "time_in_hospital            101766 non-null int64\n",
      "payer_code                  61510 non-null category\n",
      "medical_specialty           51817 non-null category\n",
      "num_lab_procedures          101766 non-null int64\n",
      "num_procedures              101766 non-null int64\n",
      "num_medications             101766 non-null int64\n",
      "number_outpatient           101766 non-null int64\n",
      "number_emergency            101766 non-null int64\n",
      "number_inpatient            101766 non-null int64\n",
      "diag_1                      101745 non-null category\n",
      "diag_2                      101408 non-null category\n",
      "diag_3                      100343 non-null category\n",
      "number_diagnoses            101766 non-null int64\n",
      "max_glu_serum               101766 non-null category\n",
      "A1Cresult                   101766 non-null category\n",
      "metformin                   101766 non-null category\n",
      "repaglinide                 101766 non-null category\n",
      "nateglinide                 101766 non-null category\n",
      "chlorpropamide              101766 non-null category\n",
      "glimepiride                 101766 non-null category\n",
      "acetohexamide               101766 non-null category\n",
      "glipizide                   101766 non-null category\n",
      "glyburide                   101766 non-null category\n",
      "tolbutamide                 101766 non-null category\n",
      "pioglitazone                101766 non-null category\n",
      "rosiglitazone               101766 non-null category\n",
      "acarbose                    101766 non-null category\n",
      "miglitol                    101766 non-null category\n",
      "troglitazone                101766 non-null category\n",
      "tolazamide                  101766 non-null category\n",
      "examide                     101766 non-null category\n",
      "citoglipton                 101766 non-null category\n",
      "insulin                     101766 non-null category\n",
      "glyburide-metformin         101766 non-null category\n",
      "glipizide-metformin         101766 non-null category\n",
      "glimepiride-pioglitazone    101766 non-null category\n",
      "metformin-rosiglitazone     101766 non-null category\n",
      "metformin-pioglitazone      101766 non-null category\n",
      "change                      101766 non-null category\n",
      "diabetesMed                 101766 non-null category\n",
      "readmitted                  101766 non-null category\n",
      "dtypes: category(40), int64(10)\n",
      "memory usage: 12.0 MB\n"
     ]
    }
   ],
   "source": [
    "df.info()"
   ]
  },
  {
   "cell_type": "code",
   "execution_count": 7,
   "metadata": {},
   "outputs": [
    {
     "data": {
      "text/plain": [
       "encounter_id                101766\n",
       "patient_nbr                 71518 \n",
       "diag_3                      789   \n",
       "diag_2                      748   \n",
       "diag_1                      716   \n",
       "num_lab_procedures          118   \n",
       "num_medications             75    \n",
       "medical_specialty           72    \n",
       "number_outpatient           39    \n",
       "number_emergency            33    \n",
       "discharge_disposition_id    26    \n",
       "number_inpatient            21    \n",
       "admission_source_id         17    \n",
       "payer_code                  17    \n",
       "number_diagnoses            16    \n",
       "time_in_hospital            14    \n",
       "age                         10    \n",
       "weight                      9     \n",
       "admission_type_id           8     \n",
       "num_procedures              7     \n",
       "race                        5     \n",
       "repaglinide                 4     \n",
       "max_glu_serum               4     \n",
       "A1Cresult                   4     \n",
       "metformin                   4     \n",
       "rosiglitazone               4     \n",
       "pioglitazone                4     \n",
       "insulin                     4     \n",
       "nateglinide                 4     \n",
       "miglitol                    4     \n",
       "acarbose                    4     \n",
       "glyburide-metformin         4     \n",
       "glyburide                   4     \n",
       "glipizide                   4     \n",
       "glimepiride                 4     \n",
       "chlorpropamide              4     \n",
       "tolazamide                  3     \n",
       "gender                      3     \n",
       "readmitted                  3     \n",
       "metformin-pioglitazone      2     \n",
       "glimepiride-pioglitazone    2     \n",
       "change                      2     \n",
       "metformin-rosiglitazone     2     \n",
       "diabetesMed                 2     \n",
       "glipizide-metformin         2     \n",
       "tolbutamide                 2     \n",
       "acetohexamide               2     \n",
       "troglitazone                2     \n",
       "citoglipton                 1     \n",
       "examide                     1     \n",
       "dtype: int64"
      ]
     },
     "execution_count": 7,
     "metadata": {},
     "output_type": "execute_result"
    }
   ],
   "source": [
    "df.nunique().sort_values(ascending=False)"
   ]
  },
  {
   "cell_type": "code",
   "execution_count": 8,
   "metadata": {},
   "outputs": [
    {
     "data": {
      "text/html": [
       "<div>\n",
       "<style scoped>\n",
       "    .dataframe tbody tr th:only-of-type {\n",
       "        vertical-align: middle;\n",
       "    }\n",
       "\n",
       "    .dataframe tbody tr th {\n",
       "        vertical-align: top;\n",
       "    }\n",
       "\n",
       "    .dataframe thead th {\n",
       "        text-align: right;\n",
       "    }\n",
       "</style>\n",
       "<table border=\"1\" class=\"dataframe\">\n",
       "  <thead>\n",
       "    <tr style=\"text-align: right;\">\n",
       "      <th></th>\n",
       "      <th>encounter_id</th>\n",
       "      <th>patient_nbr</th>\n",
       "      <th>time_in_hospital</th>\n",
       "      <th>num_lab_procedures</th>\n",
       "      <th>num_procedures</th>\n",
       "      <th>num_medications</th>\n",
       "      <th>number_outpatient</th>\n",
       "      <th>number_emergency</th>\n",
       "      <th>number_inpatient</th>\n",
       "      <th>number_diagnoses</th>\n",
       "    </tr>\n",
       "  </thead>\n",
       "  <tbody>\n",
       "    <tr>\n",
       "      <th>count</th>\n",
       "      <td>101766.0</td>\n",
       "      <td>101766.0</td>\n",
       "      <td>101766.0</td>\n",
       "      <td>101766.0</td>\n",
       "      <td>101766.0</td>\n",
       "      <td>101766.0</td>\n",
       "      <td>101766.0</td>\n",
       "      <td>101766.0</td>\n",
       "      <td>101766.0</td>\n",
       "      <td>101766.0</td>\n",
       "    </tr>\n",
       "    <tr>\n",
       "      <th>mean</th>\n",
       "      <td>165201645.6</td>\n",
       "      <td>54330400.7</td>\n",
       "      <td>4.4</td>\n",
       "      <td>43.1</td>\n",
       "      <td>1.3</td>\n",
       "      <td>16.0</td>\n",
       "      <td>0.4</td>\n",
       "      <td>0.2</td>\n",
       "      <td>0.6</td>\n",
       "      <td>7.4</td>\n",
       "    </tr>\n",
       "    <tr>\n",
       "      <th>std</th>\n",
       "      <td>102640296.0</td>\n",
       "      <td>38696359.3</td>\n",
       "      <td>3.0</td>\n",
       "      <td>19.7</td>\n",
       "      <td>1.7</td>\n",
       "      <td>8.1</td>\n",
       "      <td>1.3</td>\n",
       "      <td>0.9</td>\n",
       "      <td>1.3</td>\n",
       "      <td>1.9</td>\n",
       "    </tr>\n",
       "    <tr>\n",
       "      <th>min</th>\n",
       "      <td>12522.0</td>\n",
       "      <td>135.0</td>\n",
       "      <td>1.0</td>\n",
       "      <td>1.0</td>\n",
       "      <td>0.0</td>\n",
       "      <td>1.0</td>\n",
       "      <td>0.0</td>\n",
       "      <td>0.0</td>\n",
       "      <td>0.0</td>\n",
       "      <td>1.0</td>\n",
       "    </tr>\n",
       "    <tr>\n",
       "      <th>25%</th>\n",
       "      <td>84961194.0</td>\n",
       "      <td>23413221.0</td>\n",
       "      <td>2.0</td>\n",
       "      <td>31.0</td>\n",
       "      <td>0.0</td>\n",
       "      <td>10.0</td>\n",
       "      <td>0.0</td>\n",
       "      <td>0.0</td>\n",
       "      <td>0.0</td>\n",
       "      <td>6.0</td>\n",
       "    </tr>\n",
       "    <tr>\n",
       "      <th>50%</th>\n",
       "      <td>152388987.0</td>\n",
       "      <td>45505143.0</td>\n",
       "      <td>4.0</td>\n",
       "      <td>44.0</td>\n",
       "      <td>1.0</td>\n",
       "      <td>15.0</td>\n",
       "      <td>0.0</td>\n",
       "      <td>0.0</td>\n",
       "      <td>0.0</td>\n",
       "      <td>8.0</td>\n",
       "    </tr>\n",
       "    <tr>\n",
       "      <th>75%</th>\n",
       "      <td>230270887.5</td>\n",
       "      <td>87545949.8</td>\n",
       "      <td>6.0</td>\n",
       "      <td>57.0</td>\n",
       "      <td>2.0</td>\n",
       "      <td>20.0</td>\n",
       "      <td>0.0</td>\n",
       "      <td>0.0</td>\n",
       "      <td>1.0</td>\n",
       "      <td>9.0</td>\n",
       "    </tr>\n",
       "    <tr>\n",
       "      <th>max</th>\n",
       "      <td>443867222.0</td>\n",
       "      <td>189502619.0</td>\n",
       "      <td>14.0</td>\n",
       "      <td>132.0</td>\n",
       "      <td>6.0</td>\n",
       "      <td>81.0</td>\n",
       "      <td>42.0</td>\n",
       "      <td>76.0</td>\n",
       "      <td>21.0</td>\n",
       "      <td>16.0</td>\n",
       "    </tr>\n",
       "  </tbody>\n",
       "</table>\n",
       "</div>"
      ],
      "text/plain": [
       "      encounter_id  patient_nbr time_in_hospital num_lab_procedures  \\\n",
       "count  101766.0     101766.0     101766.0         101766.0            \n",
       "mean   165201645.6  54330400.7   4.4              43.1                \n",
       "std    102640296.0  38696359.3   3.0              19.7                \n",
       "min    12522.0      135.0        1.0              1.0                 \n",
       "25%    84961194.0   23413221.0   2.0              31.0                \n",
       "50%    152388987.0  45505143.0   4.0              44.0                \n",
       "75%    230270887.5  87545949.8   6.0              57.0                \n",
       "max    443867222.0  189502619.0  14.0             132.0               \n",
       "\n",
       "      num_procedures num_medications number_outpatient number_emergency  \\\n",
       "count  101766.0       101766.0        101766.0          101766.0          \n",
       "mean   1.3            16.0            0.4               0.2               \n",
       "std    1.7            8.1             1.3               0.9               \n",
       "min    0.0            1.0             0.0               0.0               \n",
       "25%    0.0            10.0            0.0               0.0               \n",
       "50%    1.0            15.0            0.0               0.0               \n",
       "75%    2.0            20.0            0.0               0.0               \n",
       "max    6.0            81.0            42.0              76.0              \n",
       "\n",
       "      number_inpatient number_diagnoses  \n",
       "count  101766.0         101766.0         \n",
       "mean   0.6              7.4              \n",
       "std    1.3              1.9              \n",
       "min    0.0              1.0              \n",
       "25%    0.0              6.0              \n",
       "50%    0.0              8.0              \n",
       "75%    1.0              9.0              \n",
       "max    21.0             16.0             "
      ]
     },
     "execution_count": 8,
     "metadata": {},
     "output_type": "execute_result"
    }
   ],
   "source": [
    "df.describe().applymap('{:.1f}'.format)"
   ]
  },
  {
   "cell_type": "markdown",
   "metadata": {},
   "source": [
    "# Exploratory data analysis"
   ]
  },
  {
   "cell_type": "code",
   "execution_count": 38,
   "metadata": {},
   "outputs": [],
   "source": [
    "missing_values = df.isnull().sum()/df.shape[0]*100\n",
    "missing_values.sort_values(ascending=True, inplace=True)\n",
    "missing_df = missing_values.reset_index().rename(columns={'index': 'Features', 0: 'Values'})\n",
    "missing_df['Values'] = missing_df['Values'].apply('{:.1f}'.format).astype('float')\n",
    "missing_df = missing_df.loc[missing_df['Values'] != 0].sort_values(by='Values', ascending=False)"
   ]
  },
  {
   "cell_type": "code",
   "execution_count": 39,
   "metadata": {},
   "outputs": [
    {
     "data": {
      "image/png": "[encoded data removed]",
      "text/plain": [
       "<Figure size 864x432 with 1 Axes>"
      ]
     },
     "metadata": {
      "needs_background": "light"
     },
     "output_type": "display_data"
    }
   ],
   "source": [
    "fig, axes = plt.subplots(figsize=(12, 6))\n",
    "axes.barh(missing_df['Features'], missing_df['Values'], color=plt.cm.Paired.colors)\n",
    "plt.xticks(np.linspace(0, 100, 21))\n",
    "plt.setp(axes.get_xticklabels(), fontsize=14)\n",
    "plt.setp(axes.get_yticklabels(), fontsize=14)\n",
    "plt.grid(True, linestyle='--');"
   ]
  },
  {
   "cell_type": "code",
   "execution_count": null,
   "metadata": {},
   "outputs": [],
   "source": [
    "df['race'].unique()"
   ]
  },
  {
   "cell_type": "markdown",
   "metadata": {},
   "source": [
    "From the bar plot below, we can drop the `NaN` values from race without concern."
   ]
  },
  {
   "cell_type": "code",
   "execution_count": null,
   "metadata": {},
   "outputs": [],
   "source": [
    "race_sorted_df = df['race'].value_counts(dropna=False)\n",
    "ax = race_sorted_df.plot(kind='bar', color=plt.cm.Paired.colors)\n",
    "plt.setp(ax.get_xticklabels(), ha=\"right\", rotation_mode=\"anchor\", rotation=45, fontsize=12)\n",
    "plt.setp(ax.get_yticklabels(), fontsize=12)\n",
    "plt.grid(True, linestyle='--');"
   ]
  },
  {
   "cell_type": "markdown",
   "metadata": {},
   "source": [
    "We can remove the `Unknown/Invalid` category from the `Gender` category."
   ]
  },
  {
   "cell_type": "code",
   "execution_count": null,
   "metadata": {},
   "outputs": [],
   "source": [
    "gender_sorted_df = df['gender'].value_counts(dropna=False)\n",
    "ax = gender_sorted_df.plot(kind='bar', color=plt.cm.Paired.colors)\n",
    "plt.setp(ax.get_xticklabels(), ha=\"right\", rotation_mode=\"anchor\", rotation=45, fontsize=12)\n",
    "plt.setp(ax.get_yticklabels(), fontsize=12)\n",
    "plt.grid(True, linestyle='--');"
   ]
  },
  {
   "cell_type": "markdown",
   "metadata": {},
   "source": [
    "Due to the predominance of `NaN` values in the `Payer Code` category, we will drop the entire column from the data set."
   ]
  },
  {
   "cell_type": "code",
   "execution_count": null,
   "metadata": {},
   "outputs": [],
   "source": [
    "payer_code_sorted_df = df['payer_code'].value_counts(dropna=False)\n",
    "ax = payer_code_sorted_df.plot(kind='bar', color=plt.cm.Paired.colors, figsize=(12, 6))\n",
    "plt.setp(ax.get_xticklabels(), ha=\"right\", rotation_mode=\"anchor\", rotation=45, fontsize=12)\n",
    "plt.setp(ax.get_yticklabels(), fontsize=12)\n",
    "plt.grid(True, linestyle='--');"
   ]
  },
  {
   "cell_type": "markdown",
   "metadata": {},
   "source": [
    "As above, we will drop the `Medical Specialty` columns due to the predominance of `NaN` values."
   ]
  },
  {
   "cell_type": "code",
   "execution_count": null,
   "metadata": {},
   "outputs": [],
   "source": [
    "medical_specialty_df = df['medical_specialty'].value_counts(dropna=False)\n",
    "ax = medical_specialty_df.plot(kind='bar', color=plt.cm.Paired.colors, figsize=(18, 5))\n",
    "plt.setp(ax.get_xticklabels(), fontsize=12)\n",
    "plt.setp(ax.get_yticklabels(), fontsize=12)\n",
    "plt.grid(True, linestyle='--');"
   ]
  },
  {
   "cell_type": "code",
   "execution_count": null,
   "metadata": {},
   "outputs": [],
   "source": [
    "age_df = df['age'].value_counts(dropna=False)\n",
    "ax = age_df.plot(kind='bar', color=plt.cm.Paired.colors)\n",
    "plt.setp(ax.get_xticklabels(), ha=\"right\", rotation_mode=\"anchor\", rotation=45, fontsize=12)\n",
    "plt.setp(ax.get_yticklabels(), fontsize=12)\n",
    "plt.grid(True, linestyle='--');"
   ]
  },
  {
   "cell_type": "markdown",
   "metadata": {},
   "source": [
    "We want to predict the `readmitted` feature in our data analysis."
   ]
  },
  {
   "cell_type": "code",
   "execution_count": null,
   "metadata": {},
   "outputs": [],
   "source": [
    "readmitted_df = df['readmitted'].value_counts(dropna=False)\n",
    "ax = readmitted_df.plot(kind='bar', color=plt.cm.Paired.colors)\n",
    "plt.setp(ax.get_xticklabels(), ha=\"right\", rotation_mode=\"anchor\", rotation=45, fontsize=12)\n",
    "plt.setp(ax.get_yticklabels(), fontsize=12)\n",
    "plt.grid(True, linestyle='--');"
   ]
  },
  {
   "cell_type": "code",
   "execution_count": null,
   "metadata": {},
   "outputs": [],
   "source": [
    "numeric_cols = list(df.select_dtypes('int64').columns)\n",
    "print(len(numeric_cols))"
   ]
  },
  {
   "cell_type": "code",
   "execution_count": null,
   "metadata": {},
   "outputs": [],
   "source": [
    "fig, axes = plt.subplots(5, 2, figsize=(12, 12))\n",
    "colors = plt.cm.Paired.colors\n",
    "for c, ax, col in zip(colors, axes.flat, numeric_cols):\n",
    "    ax.hist(df[col], color=c, edgecolor='k', bins=10)\n",
    "    ax.set_title(col)\n",
    "    ax.grid(True, linestyle='--')\n",
    "fig.tight_layout()"
   ]
  },
  {
   "cell_type": "markdown",
   "metadata": {},
   "source": [
    "# Data-cleaning"
   ]
  },
  {
   "cell_type": "markdown",
   "metadata": {},
   "source": [
    "## Removing null and bias values"
   ]
  },
  {
   "cell_type": "code",
   "execution_count": null,
   "metadata": {},
   "outputs": [],
   "source": [
    "df.shape"
   ]
  },
  {
   "cell_type": "markdown",
   "metadata": {},
   "source": [
    "We're removing null values for race and `Unknown/Invalid` values for gender."
   ]
  },
  {
   "cell_type": "code",
   "execution_count": null,
   "metadata": {},
   "outputs": [],
   "source": [
    "df = df.loc[df.race.notnull()]\n",
    "df = df.loc[df.gender != 'Unknown/Invalid', :]"
   ]
  },
  {
   "cell_type": "markdown",
   "metadata": {},
   "source": [
    "As stated above, we remove `weight`, `medical_specialty` and `payer_code` due to the large presence of `NaN` values. We also remove `encounter_id` since it isn't relevant to our analysis."
   ]
  },
  {
   "cell_type": "code",
   "execution_count": null,
   "metadata": {},
   "outputs": [],
   "source": [
    "df.drop(['weight', 'medical_specialty', 'payer_code', 'encounter_id'], axis=1, inplace=True)"
   ]
  },
  {
   "cell_type": "markdown",
   "metadata": {},
   "source": [
    "We are also doing away with not available, null, not mapped and unknown/invaild admission type and admission source IDs."
   ]
  },
  {
   "cell_type": "code",
   "execution_count": null,
   "metadata": {},
   "outputs": [],
   "source": [
    "df = df.loc[~df['admission_type_id'].isin([5, 6, 8])]\n",
    "df = df.loc[~df['admission_source_id'].isin([9, 15, 17, 20, 21])]"
   ]
  },
  {
   "cell_type": "code",
   "execution_count": null,
   "metadata": {},
   "outputs": [],
   "source": [
    "df.shape"
   ]
  },
  {
   "cell_type": "markdown",
   "metadata": {},
   "source": [
    "Now we will discard all rows that contains `NaN` values."
   ]
  },
  {
   "cell_type": "code",
   "execution_count": null,
   "metadata": {},
   "outputs": [],
   "source": [
    "df.dropna(how='any', inplace=True)"
   ]
  },
  {
   "cell_type": "code",
   "execution_count": null,
   "metadata": {},
   "outputs": [],
   "source": [
    "df.shape"
   ]
  },
  {
   "cell_type": "markdown",
   "metadata": {},
   "source": [
    "According to the [analysis conditions laid out in the research article](https://www.hindawi.com/journals/bmri/2014/781670/), the duplicate patient data were removed to mantain the statistical independence of the data, which is a condition required by logistic regression. Once this is computed, the `patient_nbr` column can be dropped."
   ]
  },
  {
   "cell_type": "code",
   "execution_count": null,
   "metadata": {},
   "outputs": [],
   "source": [
    "df.drop_duplicates(['patient_nbr'], inplace=True)\n",
    "df.drop(['patient_nbr'], axis=1, inplace=True)"
   ]
  },
  {
   "cell_type": "markdown",
   "metadata": {},
   "source": [
    "Moreover, all patient data related to discharge to a hospice or patient death were removed to avoid biases. Null patient values were remove as well."
   ]
  },
  {
   "cell_type": "code",
   "execution_count": null,
   "metadata": {},
   "outputs": [],
   "source": [
    "discharged_to_hospice_or_expired_or_null = [11, 13, 14, 18, 19, 20, 21, 25, 26]\n",
    "df = df.loc[~df['discharge_disposition_id'].isin(discharged_to_hospice_or_expired_or_null)]"
   ]
  },
  {
   "cell_type": "code",
   "execution_count": null,
   "metadata": {},
   "outputs": [],
   "source": [
    "df.shape"
   ]
  },
  {
   "cell_type": "markdown",
   "metadata": {},
   "source": [
    "## Grouping primary diagnosis values into group categories\n",
    "\n",
    "Column values for `diag_1`, `diag_2` and `diag_3` are encoded in over 700 individual code entries of which the first three digits are listed in each entry. Following the grouping in Table 2 of the article, we can reduce these values to nine major groups, which are `Circulatory`, `Respiratory`, `Digestive`, `Diabetes`, `Injury`, `Musculoskeletal`, `Genitourinary`, `Neoplasms` and `Others`."
   ]
  },
  {
   "cell_type": "code",
   "execution_count": null,
   "metadata": {},
   "outputs": [],
   "source": [
    "circulatory_list = [str(f) for f in list(range(390, 460)) + [785]]\n",
    "respiratory_list = [str(f) for f in list(range(460, 520)) + [786]]\n",
    "digestive_list = [str(f) for f in list(range(520, 580)) + [787]]\n",
    "injury_list = [str(f) for f in list(range(800, 1000))]\n",
    "musculoskeletal_list = [str(f) for f in list(range(710, 740))]\n",
    "genitourinary_list = [str(f) for f in list(range(580, 630)) + [788]]\n",
    "neoplasms_list = [str(f) for f in list(range(140, 240))]\n",
    "others_list = [str(f) for f in [780, 781, 782, 784] + list(range(790, 800)) + list(range(240, 250)) + \\\n",
    "               list(range(680, 710)) + list(range(251, 280))] + [str(f).zfill(3) for f in list(range(1, 140))] + \\\n",
    "              [str(f) for f in list(range(290, 320))] + \\\n",
    "              [str(f) for f in list(range(280, 290)) + list(range(320, 390)) + list(range(630, 680)) + \\\n",
    "               list(range(740, 760))]"
   ]
  },
  {
   "cell_type": "code",
   "execution_count": null,
   "metadata": {},
   "outputs": [],
   "source": [
    "diagnosis_list = [circulatory_list, respiratory_list, digestive_list, injury_list, musculoskeletal_list, \\\n",
    "genitourinary_list, neoplasms_list, others_list]\n",
    "diagnoses_names = ['circulatory', 'respiratory', 'digestive', 'injury', 'musculoskeletal', 'genitourinary', \\\n",
    "                   'neoplasms', 'others']"
   ]
  },
  {
   "cell_type": "code",
   "execution_count": null,
   "metadata": {
    "scrolled": true
   },
   "outputs": [],
   "source": [
    "for list_, col in zip(diagnosis_list, diagnoses_names):\n",
    "    filter_ = df['diag_1'].isin(list_)\n",
    "    df.loc[filter_, col+'_col'] = pd.Categorical([col for i in range(filter_.sum())])"
   ]
  },
  {
   "cell_type": "code",
   "execution_count": null,
   "metadata": {},
   "outputs": [],
   "source": [
    "df.shape"
   ]
  },
  {
   "cell_type": "code",
   "execution_count": null,
   "metadata": {},
   "outputs": [],
   "source": [
    "char_list = ['250.', 'E', 'V']\n",
    "diag_char_list = ['diabetes', 'others', 'others']"
   ]
  },
  {
   "cell_type": "code",
   "execution_count": null,
   "metadata": {},
   "outputs": [],
   "source": [
    "for char, col in zip(char_list, diag_char_list):\n",
    "    filter_ = df['diag_1'].str.contains(char)\n",
    "    df.loc[filter_, col+'_col'] = pd.Categorical([col for i in range(filter_.sum())])"
   ]
  },
  {
   "cell_type": "code",
   "execution_count": null,
   "metadata": {},
   "outputs": [],
   "source": [
    "df.shape"
   ]
  },
  {
   "cell_type": "code",
   "execution_count": null,
   "metadata": {},
   "outputs": [],
   "source": [
    "df.drop(['diag_1', 'diag_2', 'diag_3'], axis=1, inplace=True)"
   ]
  },
  {
   "cell_type": "code",
   "execution_count": null,
   "metadata": {},
   "outputs": [],
   "source": [
    "df.shape"
   ]
  },
  {
   "cell_type": "code",
   "execution_count": null,
   "metadata": {},
   "outputs": [],
   "source": [
    "diagnoses_list = [col+'_col' for col in diagnoses_names + ['diabetes']]\n",
    "df['diagnosis'] = df[diagnoses_list].bfill(axis=1).iloc[:, 0].astype('category')\n",
    "df.drop(diagnoses_list, axis=1, inplace=True)\n",
    "df.dropna(how='any', axis=0, inplace=True)"
   ]
  },
  {
   "cell_type": "markdown",
   "metadata": {},
   "source": [
    "The `circulatory` category tends to be overly represented with respect to all the other categories, considering also that the `others` category contains all of the remaining categories."
   ]
  },
  {
   "cell_type": "code",
   "execution_count": null,
   "metadata": {},
   "outputs": [],
   "source": [
    "diagnosis_df = df['diagnosis'].value_counts(dropna=False)\n",
    "ax = diagnosis_df.plot(kind='bar', color=plt.cm.Paired.colors, figsize=(9, 6))\n",
    "plt.setp(ax.get_xticklabels(), ha=\"right\", rotation_mode=\"anchor\", rotation=45, fontsize=12)\n",
    "plt.setp(ax.get_yticklabels(), fontsize=12)\n",
    "plt.grid(True, linestyle='--');"
   ]
  },
  {
   "cell_type": "markdown",
   "metadata": {},
   "source": [
    "## Grouping `>30 days` and `<30 days ` into the `Yes` category in the `readmitted` column\n",
    "\n",
    "We're grouping together the `>30` and `<30` categories into the `YES` category."
   ]
  },
  {
   "cell_type": "code",
   "execution_count": null,
   "metadata": {},
   "outputs": [],
   "source": [
    "df['readmitted'].replace(['>30', '<30'], '1', inplace=True)\n",
    "df['readmitted'].replace(['NO'], '0', inplace=True)\n",
    "df['readmitted'] = df['readmitted'].astype('int64')"
   ]
  },
  {
   "cell_type": "markdown",
   "metadata": {},
   "source": [
    "We're resetting the index in order to align and concatenate correctly the new rows of data."
   ]
  },
  {
   "cell_type": "code",
   "execution_count": null,
   "metadata": {},
   "outputs": [],
   "source": [
    "df.reset_index(inplace=True, drop=True)"
   ]
  },
  {
   "cell_type": "code",
   "execution_count": null,
   "metadata": {},
   "outputs": [],
   "source": [
    "df.head()"
   ]
  },
  {
   "cell_type": "code",
   "execution_count": null,
   "metadata": {},
   "outputs": [],
   "source": [
    "df.shape"
   ]
  },
  {
   "cell_type": "code",
   "execution_count": null,
   "metadata": {},
   "outputs": [],
   "source": [
    "df.nunique().sort_values(ascending=False)"
   ]
  },
  {
   "cell_type": "markdown",
   "metadata": {},
   "source": [
    "## Converting categorical variables into dummy variables\n",
    "\n",
    "I followed the `DictVectorizer` procedure in the [Encoding Categorical Features blog plot on Medium](https://towardsdatascience.com/encoding-categorical-features-21a2651a065c)."
   ]
  },
  {
   "cell_type": "code",
   "execution_count": null,
   "metadata": {},
   "outputs": [],
   "source": [
    "df.info()"
   ]
  },
  {
   "cell_type": "markdown",
   "metadata": {},
   "source": [
    "We're just performing the conversion to dummy variables on the columns with categorical values."
   ]
  },
  {
   "cell_type": "code",
   "execution_count": null,
   "metadata": {},
   "outputs": [],
   "source": [
    "cats_cols = list(df.select_dtypes('category').columns)"
   ]
  },
  {
   "cell_type": "code",
   "execution_count": null,
   "metadata": {},
   "outputs": [],
   "source": [
    "from sklearn.feature_extraction import DictVectorizer\n",
    "df_to_dict = df[cats_cols].to_dict(orient='records')\n",
    "dv = DictVectorizer(sparse=False)\n",
    "dict_to_arr_encoded = dv.fit_transform(df_to_dict)"
   ]
  },
  {
   "cell_type": "code",
   "execution_count": null,
   "metadata": {},
   "outputs": [],
   "source": [
    "dict_to_arr_encoded.shape"
   ]
  },
  {
   "cell_type": "code",
   "execution_count": null,
   "metadata": {},
   "outputs": [],
   "source": [
    "vocab = list(dv.vocabulary_)\n",
    "df_encoded = pd.concat([df.loc[:, list(df.select_dtypes('int64').columns)], pd.DataFrame(dict_to_arr_encoded, columns=vocab)], axis=1)"
   ]
  },
  {
   "cell_type": "code",
   "execution_count": null,
   "metadata": {},
   "outputs": [],
   "source": [
    "df_encoded.info()"
   ]
  },
  {
   "cell_type": "code",
   "execution_count": null,
   "metadata": {},
   "outputs": [],
   "source": [
    "df_encoded.shape"
   ]
  },
  {
   "cell_type": "code",
   "execution_count": null,
   "metadata": {},
   "outputs": [],
   "source": [
    "df_encoded.head()"
   ]
  },
  {
   "cell_type": "markdown",
   "metadata": {},
   "source": [
    "# Saving results"
   ]
  },
  {
   "cell_type": "code",
   "execution_count": null,
   "metadata": {},
   "outputs": [],
   "source": [
    "df_encoded.to_csv('data/df_encoded.csv')"
   ]
  }
 ],
 "metadata": {
  "kernelspec": {
   "display_name": "Python 3",
   "language": "python",
   "name": "python3"
  },
  "language_info": {
   "codemirror_mode": {
    "name": "ipython",
    "version": 3
   },
   "file_extension": ".py",
   "mimetype": "text/x-python",
   "name": "python",
   "nbconvert_exporter": "python",
   "pygments_lexer": "ipython3",
   "version": "3.7.3"
  }
 },
 "nbformat": 4,
 "nbformat_minor": 2
}
