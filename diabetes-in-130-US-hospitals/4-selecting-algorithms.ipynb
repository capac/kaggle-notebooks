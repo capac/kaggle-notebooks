{
 "cells": [
  {
   "cell_type": "markdown",
   "metadata": {},
   "source": [
    "# Diabetes in 130 US hospitals for the years 1999 to 2008\n",
    "\n",
    "This notebook accomplishes the analysis on the diabetes data set by adopting some of the practices outlined in Chapter 2 of Aurélien Géron's book _Hands-on Machine Learning with Scikit-Learn, Keras, and TensorFlow_ (with the [link to his GitHub here](https://github.com/ageron/handson-ml)). Its primary motivation is to be a template for future machine learning analysis by making use of specific, dedicated classes available from `scikit-learn` for numerical and categorical data preparation.\n",
    "\n",
    " - [Summary of data preparation](#Summary-of-data-preparation)\n",
    " - [Data cleaning](#Data-cleaning)\n",
    " - [Handling numerical and categorical features with pipelines](#Handling-numerical-and-categorical-features-with-pipelines)\n",
    "   - [Transformation pipeline](#Transformation-pipeline)\n",
    " - [Selecting and training a model](#Selecting-and-training-a-model)\n",
    "   - [Model pipeline](#Model-pipeline)\n",
    "     - [Confusion matrix](#Confusion-matrix)\n",
    "     - [Precision, recall, F-measure and support](#Precision,-recall,-F-measure-and-support)\n",
    "     - [ROC curve](#ROC-curve)"
   ]
  },
  {
   "cell_type": "markdown",
   "metadata": {},
   "source": [
    "# Summary of data preparation\n",
    "\n",
    "This part is taken verbatim from the first notebook except for only including the results of the exploratory data analysis section.\n",
    "\n",
    " - All of the `object` values in the data frame, which are text values in the CSV file, are converted to categorical values.\n",
    " - After reviewing the results in the `Exploratory data analysis` section, we remove: \n",
    "   - all `NaN` values from the data, and the `Unknown/Invalid` subcategory from the `Gender` category,\n",
    "   - `weight`, `medical_specialty` and `payer_code` columns due to the large presence of `NaN` values,\n",
    "   - `encounter_id` column since it isn't relevant to the analysis,\n",
    "   - duplicate patient data to maintain the statistical independence of the data which is required by logistic regression, after which the `patient_nbr` column is dropped.\n",
    "   - `admission_type_id`, `discharge_disposition_id` and `admission_source_id` columns, since they don't have any bearing on readmission,\n",
    "- `diag_1`, `diag_2` and `diag_3` values are encoded into nine major groups: `circulatory`, `respiratory`, `digestive`, `diabetes`, `injury`, `musculoskeletal`, `genitourinary`, `neoplasms` and `others`.\n",
    " - `readmitted` column is divided into two `0` and `1` categories, where the `1` category groups the two `< 30 days` and `> 30 days` cases together,\n",
    " - Feature scaling is preformed on all numerical values using the `sklearn.preprocessing.StandardScaler` class.\n",
    " - Dummy variables are created for all categorical columns using the `sklearn.preprocessing.OneHotEncoder` class."
   ]
  },
  {
   "cell_type": "code",
   "execution_count": 1,
   "metadata": {},
   "outputs": [],
   "source": [
    "import numpy as np\n",
    "import pandas as pd\n",
    "import matplotlib.pyplot as plt\n",
    "%matplotlib notebook"
   ]
  },
  {
   "cell_type": "code",
   "execution_count": 2,
   "metadata": {},
   "outputs": [],
   "source": [
    "pd.set_option('display.max_columns', None)\n",
    "pd.set_option('display.max_colwidth', -1)"
   ]
  },
  {
   "cell_type": "code",
   "execution_count": 3,
   "metadata": {},
   "outputs": [],
   "source": [
    "df = pd.read_csv('data/diabetic_data.csv', na_values='?', low_memory=False)\n",
    "obj_cols = df.select_dtypes('object').columns\n",
    "df[obj_cols] = df[obj_cols].astype('category')"
   ]
  },
  {
   "cell_type": "code",
   "execution_count": 4,
   "metadata": {},
   "outputs": [
    {
     "data": {
      "text/plain": [
       "(101766, 50)"
      ]
     },
     "execution_count": 4,
     "metadata": {},
     "output_type": "execute_result"
    }
   ],
   "source": [
    "df.shape"
   ]
  },
  {
   "cell_type": "markdown",
   "metadata": {},
   "source": [
    "# Data cleaning"
   ]
  },
  {
   "cell_type": "markdown",
   "metadata": {},
   "source": [
    "We're removing null values for race and `Unknown/Invalid` values for gender."
   ]
  },
  {
   "cell_type": "code",
   "execution_count": 5,
   "metadata": {},
   "outputs": [],
   "source": [
    "df = df.loc[df.race.notnull()]\n",
    "df = df.loc[df.gender != 'Unknown/Invalid', :]"
   ]
  },
  {
   "cell_type": "markdown",
   "metadata": {},
   "source": [
    "As stated above, we remove `weight`, `medical_specialty` and `payer_code` due to the large presence of `NaN` values. We also remove `encounter_id` since it isn't relevant to our analysis."
   ]
  },
  {
   "cell_type": "code",
   "execution_count": 6,
   "metadata": {},
   "outputs": [],
   "source": [
    "df.drop(['weight', 'medical_specialty', 'payer_code', 'encounter_id'], axis=1, inplace=True)"
   ]
  },
  {
   "cell_type": "markdown",
   "metadata": {},
   "source": [
    "We discard the `admission_type_id`, `discharge_disposition_id` and `admission_source_id` columns since they don't have any bearing on readmission."
   ]
  },
  {
   "cell_type": "code",
   "execution_count": 7,
   "metadata": {},
   "outputs": [],
   "source": [
    "df.drop(['admission_type_id' ,'discharge_disposition_id', 'admission_source_id'], axis=1, inplace=True)"
   ]
  },
  {
   "cell_type": "markdown",
   "metadata": {},
   "source": [
    "Now we will discard all rows that contains `NaN` values."
   ]
  },
  {
   "cell_type": "code",
   "execution_count": 8,
   "metadata": {},
   "outputs": [],
   "source": [
    "df.dropna(how='any', inplace=True)"
   ]
  },
  {
   "cell_type": "code",
   "execution_count": 9,
   "metadata": {},
   "outputs": [
    {
     "data": {
      "text/plain": [
       "(98052, 43)"
      ]
     },
     "execution_count": 9,
     "metadata": {},
     "output_type": "execute_result"
    }
   ],
   "source": [
    "df.shape"
   ]
  },
  {
   "cell_type": "markdown",
   "metadata": {},
   "source": [
    "According to the [analysis conditions laid out in the research article](https://www.hindawi.com/journals/bmri/2014/781670/), the duplicate patient data were removed to maintain the statistical independence of the data, which is a condition required by logistic regression. Once this is computed, the `patient_nbr` column can be dropped."
   ]
  },
  {
   "cell_type": "code",
   "execution_count": 10,
   "metadata": {},
   "outputs": [],
   "source": [
    "df.drop_duplicates(['patient_nbr'], inplace=True)\n",
    "df.drop(['patient_nbr'], axis=1, inplace=True)"
   ]
  },
  {
   "cell_type": "code",
   "execution_count": 11,
   "metadata": {},
   "outputs": [
    {
     "data": {
      "text/plain": [
       "(68629, 42)"
      ]
     },
     "execution_count": 11,
     "metadata": {},
     "output_type": "execute_result"
    }
   ],
   "source": [
    "df.shape"
   ]
  },
  {
   "cell_type": "markdown",
   "metadata": {},
   "source": [
    "## Grouping primary, secondary and additional diagnosis values into group categories"
   ]
  },
  {
   "cell_type": "markdown",
   "metadata": {},
   "source": [
    "Column values for the primary, secondary and additional diagnoses, `diag_1`, `diag_2` and `diag_3`, are encoded in over 700 individual code entries of which the first three digits are listed in each entry. Following the grouping in Table 2 of the articlefor the primary diagnosis, we can reduce these values to nine major groups, which are `Circulatory`, `Respiratory`, `Digestive`, `Diabetes`, `Injury`, `Musculoskeletal`, `Genitourinary`, `Neoplasms` and `Others`. We do this for the secondary and addtional diagnoses as well."
   ]
  },
  {
   "cell_type": "code",
   "execution_count": 12,
   "metadata": {},
   "outputs": [],
   "source": [
    "circulatory_list = [str(f) for f in list(range(390, 460)) + [785]]\n",
    "respiratory_list = [str(f) for f in list(range(460, 520)) + [786]]\n",
    "digestive_list = [str(f) for f in list(range(520, 580)) + [787]]\n",
    "injury_list = [str(f) for f in list(range(800, 1000))]\n",
    "musculoskeletal_list = [str(f) for f in list(range(710, 740))]\n",
    "genitourinary_list = [str(f) for f in list(range(580, 630)) + [788]]\n",
    "neoplasms_list = [str(f) for f in list(range(140, 240))]"
   ]
  },
  {
   "cell_type": "code",
   "execution_count": 13,
   "metadata": {},
   "outputs": [],
   "source": [
    "diagnosis_list = [circulatory_list, respiratory_list, digestive_list, injury_list, musculoskeletal_list, \\\n",
    "genitourinary_list, neoplasms_list]\n",
    "diagnosis_names = ['Circulatory', 'Respiratory', 'Digestive', 'Injury', 'Musculoskeletal', 'Genitourinary', \\\n",
    "                   'Neoplasms']\n",
    "diag_columns = ['diag_1', 'diag_2', 'diag_3']"
   ]
  },
  {
   "cell_type": "code",
   "execution_count": 14,
   "metadata": {},
   "outputs": [],
   "source": [
    "for index, diag_col in enumerate(diag_columns):\n",
    "    for diag_name, diag_list in zip(diagnosis_names, diagnosis_list):\n",
    "        df.loc[:, diag_name+'_'+str(index)+'_col'] = np.array([np.nan for i in range(df.shape[0])])\n",
    "        filter_ = df[diag_col].isin(diag_list)\n",
    "        df.loc[filter_, diag_name+'_'+str(index)+'_col'] = np.array([diag_name for i in range(filter_.sum())])"
   ]
  },
  {
   "cell_type": "code",
   "execution_count": 15,
   "metadata": {},
   "outputs": [
    {
     "data": {
      "text/plain": [
       "(68629, 63)"
      ]
     },
     "execution_count": 15,
     "metadata": {},
     "output_type": "execute_result"
    }
   ],
   "source": [
    "df.shape"
   ]
  },
  {
   "cell_type": "code",
   "execution_count": 16,
   "metadata": {},
   "outputs": [],
   "source": [
    "diab_others_list = ['Diabetes', 'Others', 'Others']\n",
    "char_list = ['250.', 'E', 'V']"
   ]
  },
  {
   "cell_type": "code",
   "execution_count": 17,
   "metadata": {},
   "outputs": [],
   "source": [
    "for index, diag_col in enumerate(diag_columns):\n",
    "    for diag_name, char in zip(diab_others_list, char_list):\n",
    "        df.loc[:, diag_name+'_'+str(index)+'_col'] = np.array([np.nan for i in range(df.shape[0])])\n",
    "        filter_ = df[diag_col].str.contains(char)\n",
    "        df.loc[filter_, diag_name+'_'+str(index)+'_col'] = np.array([diag_name for i in range(filter_.sum())])"
   ]
  },
  {
   "cell_type": "code",
   "execution_count": 18,
   "metadata": {},
   "outputs": [
    {
     "data": {
      "text/plain": [
       "(68629, 69)"
      ]
     },
     "execution_count": 18,
     "metadata": {},
     "output_type": "execute_result"
    }
   ],
   "source": [
    "df.shape"
   ]
  },
  {
   "cell_type": "markdown",
   "metadata": {},
   "source": [
    "The primary (`diag_1`), secondary (`diag_2`) and additional diagnoses (`diag_3`) are dropped."
   ]
  },
  {
   "cell_type": "code",
   "execution_count": 19,
   "metadata": {},
   "outputs": [],
   "source": [
    "df.drop(diag_columns, axis=1, inplace=True)"
   ]
  },
  {
   "cell_type": "code",
   "execution_count": 20,
   "metadata": {},
   "outputs": [
    {
     "data": {
      "text/plain": [
       "(68629, 66)"
      ]
     },
     "execution_count": 20,
     "metadata": {},
     "output_type": "execute_result"
    }
   ],
   "source": [
    "df.shape"
   ]
  },
  {
   "cell_type": "code",
   "execution_count": 21,
   "metadata": {},
   "outputs": [],
   "source": [
    "final_diag_list = ['primary_diag', 'secondary_diag', 'additional_diag']\n",
    "for index, diag in enumerate(final_diag_list):\n",
    "    tmp_diag_list = [col+'_'+str(index)+'_col' for col in diagnosis_names + ['Diabetes', 'Others']]\n",
    "    df[diag] = df[tmp_diag_list].fillna(axis=1, method='bfill').iloc[:, 0]\n",
    "    df[diag].fillna(value='Others', inplace=True)\n",
    "    df[diag] = df[diag].astype('category')\n",
    "    df.drop(tmp_diag_list, axis=1, inplace=True)"
   ]
  },
  {
   "cell_type": "code",
   "execution_count": 22,
   "metadata": {},
   "outputs": [],
   "source": [
    "diagnosis_df = df['primary_diag'].value_counts(dropna=False)\n",
    "diagnosis_df.sort_values(ascending=False, inplace=True)\n",
    "diagnosis_df = (diagnosis_df/diagnosis_df.sum()*100).apply('{:.2f}'.format).astype('float')\n",
    "diagnosis_df = diagnosis_df.reset_index().rename(columns={'index': 'Primary diagnosis', 'primary_diag': 'Percentage'})"
   ]
  },
  {
   "cell_type": "code",
   "execution_count": 23,
   "metadata": {},
   "outputs": [],
   "source": [
    "order_list = ['Circulatory', 'Respiratory', 'Digestive', 'Diabetes', 'Injury', 'Musculoskeletal', \\\n",
    "              'Genitourinary', 'Neoplasms', 'Others']\n",
    "diagnosis_df = diagnosis_df.set_index('Primary diagnosis').loc[order_list]\n",
    "diagnosis_sr = pd.Series(diagnosis_df.Percentage, index=diagnosis_df.index)"
   ]
  },
  {
   "cell_type": "markdown",
   "metadata": {},
   "source": [
    "Using the primary diagnosis (`diag_1`) category, the `Circulatory` category tends to be overly represented with respect to all the other categories, even with the `Others` category containing all of the remaining categories that are present at or lower than 3.5% (which regard about 17.0% of the total data in our analysis)."
   ]
  },
  {
   "cell_type": "code",
   "execution_count": 24,
   "metadata": {},
   "outputs": [
    {
     "data": {
      "image/png": "[encoded data removed]",
      "text/plain": [
       "<Figure size 576x360 with 1 Axes>"
      ]
     },
     "metadata": {
      "needs_background": "light"
     },
     "output_type": "display_data"
    }
   ],
   "source": [
    "ax = diagnosis_sr.plot(kind='bar', color=plt.cm.Paired.colors, figsize=(8, 5), edgecolor='k')\n",
    "plt.setp(ax.get_xticklabels(), ha=\"right\", rotation_mode=\"anchor\", rotation=45, fontsize=12)\n",
    "plt.setp(ax.get_yticklabels(), fontsize=12)\n",
    "ax.set_xlabel(None)\n",
    "ax.set_ylabel('Percent (%)', fontsize=14)\n",
    "ax.set_title('Percentage of patients per condition for primary diagnosis', fontsize=14)\n",
    "plt.grid(True, linestyle='--');"
   ]
  },
  {
   "cell_type": "markdown",
   "metadata": {},
   "source": [
    "## Grouping `>30 days` and `<30 days ` into the `Yes` category in the `readmitted` column\n",
    "\n",
    "We're grouping together the `>30` and `<30` categories into the `YES` category."
   ]
  },
  {
   "cell_type": "code",
   "execution_count": 25,
   "metadata": {},
   "outputs": [],
   "source": [
    "df['readmitted'].replace(['>30', '<30'], '1', inplace=True)\n",
    "df['readmitted'].replace(['NO'], '0', inplace=True)\n",
    "df['readmitted'] = df['readmitted'].astype('int64')"
   ]
  },
  {
   "cell_type": "markdown",
   "metadata": {},
   "source": [
    "We're resetting the index in order to align and concatenate correctly the new rows of data."
   ]
  },
  {
   "cell_type": "code",
   "execution_count": 26,
   "metadata": {},
   "outputs": [],
   "source": [
    "df.reset_index(inplace=True, drop=True)"
   ]
  },
  {
   "cell_type": "code",
   "execution_count": 27,
   "metadata": {},
   "outputs": [
    {
     "data": {
      "text/html": [
       "<div>\n",
       "<style scoped>\n",
       "    .dataframe tbody tr th:only-of-type {\n",
       "        vertical-align: middle;\n",
       "    }\n",
       "\n",
       "    .dataframe tbody tr th {\n",
       "        vertical-align: top;\n",
       "    }\n",
       "\n",
       "    .dataframe thead th {\n",
       "        text-align: right;\n",
       "    }\n",
       "</style>\n",
       "<table border=\"1\" class=\"dataframe\">\n",
       "  <thead>\n",
       "    <tr style=\"text-align: right;\">\n",
       "      <th></th>\n",
       "      <th>race</th>\n",
       "      <th>gender</th>\n",
       "      <th>age</th>\n",
       "      <th>time_in_hospital</th>\n",
       "      <th>num_lab_procedures</th>\n",
       "      <th>num_procedures</th>\n",
       "      <th>num_medications</th>\n",
       "      <th>number_outpatient</th>\n",
       "      <th>number_emergency</th>\n",
       "      <th>number_inpatient</th>\n",
       "      <th>number_diagnoses</th>\n",
       "      <th>max_glu_serum</th>\n",
       "      <th>A1Cresult</th>\n",
       "      <th>metformin</th>\n",
       "      <th>repaglinide</th>\n",
       "      <th>nateglinide</th>\n",
       "      <th>chlorpropamide</th>\n",
       "      <th>glimepiride</th>\n",
       "      <th>acetohexamide</th>\n",
       "      <th>glipizide</th>\n",
       "      <th>glyburide</th>\n",
       "      <th>tolbutamide</th>\n",
       "      <th>pioglitazone</th>\n",
       "      <th>rosiglitazone</th>\n",
       "      <th>acarbose</th>\n",
       "      <th>miglitol</th>\n",
       "      <th>troglitazone</th>\n",
       "      <th>tolazamide</th>\n",
       "      <th>examide</th>\n",
       "      <th>citoglipton</th>\n",
       "      <th>insulin</th>\n",
       "      <th>glyburide-metformin</th>\n",
       "      <th>glipizide-metformin</th>\n",
       "      <th>glimepiride-pioglitazone</th>\n",
       "      <th>metformin-rosiglitazone</th>\n",
       "      <th>metformin-pioglitazone</th>\n",
       "      <th>change</th>\n",
       "      <th>diabetesMed</th>\n",
       "      <th>readmitted</th>\n",
       "      <th>primary_diag</th>\n",
       "      <th>secondary_diag</th>\n",
       "      <th>additional_diag</th>\n",
       "    </tr>\n",
       "  </thead>\n",
       "  <tbody>\n",
       "    <tr>\n",
       "      <th>0</th>\n",
       "      <td>Caucasian</td>\n",
       "      <td>Female</td>\n",
       "      <td>[10-20)</td>\n",
       "      <td>3</td>\n",
       "      <td>59</td>\n",
       "      <td>0</td>\n",
       "      <td>18</td>\n",
       "      <td>0</td>\n",
       "      <td>0</td>\n",
       "      <td>0</td>\n",
       "      <td>9</td>\n",
       "      <td>None</td>\n",
       "      <td>None</td>\n",
       "      <td>No</td>\n",
       "      <td>No</td>\n",
       "      <td>No</td>\n",
       "      <td>No</td>\n",
       "      <td>No</td>\n",
       "      <td>No</td>\n",
       "      <td>No</td>\n",
       "      <td>No</td>\n",
       "      <td>No</td>\n",
       "      <td>No</td>\n",
       "      <td>No</td>\n",
       "      <td>No</td>\n",
       "      <td>No</td>\n",
       "      <td>No</td>\n",
       "      <td>No</td>\n",
       "      <td>No</td>\n",
       "      <td>No</td>\n",
       "      <td>Up</td>\n",
       "      <td>No</td>\n",
       "      <td>No</td>\n",
       "      <td>No</td>\n",
       "      <td>No</td>\n",
       "      <td>No</td>\n",
       "      <td>Ch</td>\n",
       "      <td>Yes</td>\n",
       "      <td>1</td>\n",
       "      <td>Others</td>\n",
       "      <td>Diabetes</td>\n",
       "      <td>Others</td>\n",
       "    </tr>\n",
       "    <tr>\n",
       "      <th>1</th>\n",
       "      <td>AfricanAmerican</td>\n",
       "      <td>Female</td>\n",
       "      <td>[20-30)</td>\n",
       "      <td>2</td>\n",
       "      <td>11</td>\n",
       "      <td>5</td>\n",
       "      <td>13</td>\n",
       "      <td>2</td>\n",
       "      <td>0</td>\n",
       "      <td>1</td>\n",
       "      <td>6</td>\n",
       "      <td>None</td>\n",
       "      <td>None</td>\n",
       "      <td>No</td>\n",
       "      <td>No</td>\n",
       "      <td>No</td>\n",
       "      <td>No</td>\n",
       "      <td>No</td>\n",
       "      <td>No</td>\n",
       "      <td>Steady</td>\n",
       "      <td>No</td>\n",
       "      <td>No</td>\n",
       "      <td>No</td>\n",
       "      <td>No</td>\n",
       "      <td>No</td>\n",
       "      <td>No</td>\n",
       "      <td>No</td>\n",
       "      <td>No</td>\n",
       "      <td>No</td>\n",
       "      <td>No</td>\n",
       "      <td>No</td>\n",
       "      <td>No</td>\n",
       "      <td>No</td>\n",
       "      <td>No</td>\n",
       "      <td>No</td>\n",
       "      <td>No</td>\n",
       "      <td>No</td>\n",
       "      <td>Yes</td>\n",
       "      <td>0</td>\n",
       "      <td>Others</td>\n",
       "      <td>Others</td>\n",
       "      <td>Others</td>\n",
       "    </tr>\n",
       "    <tr>\n",
       "      <th>2</th>\n",
       "      <td>Caucasian</td>\n",
       "      <td>Male</td>\n",
       "      <td>[30-40)</td>\n",
       "      <td>2</td>\n",
       "      <td>44</td>\n",
       "      <td>1</td>\n",
       "      <td>16</td>\n",
       "      <td>0</td>\n",
       "      <td>0</td>\n",
       "      <td>0</td>\n",
       "      <td>7</td>\n",
       "      <td>None</td>\n",
       "      <td>None</td>\n",
       "      <td>No</td>\n",
       "      <td>No</td>\n",
       "      <td>No</td>\n",
       "      <td>No</td>\n",
       "      <td>No</td>\n",
       "      <td>No</td>\n",
       "      <td>No</td>\n",
       "      <td>No</td>\n",
       "      <td>No</td>\n",
       "      <td>No</td>\n",
       "      <td>No</td>\n",
       "      <td>No</td>\n",
       "      <td>No</td>\n",
       "      <td>No</td>\n",
       "      <td>No</td>\n",
       "      <td>No</td>\n",
       "      <td>No</td>\n",
       "      <td>Up</td>\n",
       "      <td>No</td>\n",
       "      <td>No</td>\n",
       "      <td>No</td>\n",
       "      <td>No</td>\n",
       "      <td>No</td>\n",
       "      <td>Ch</td>\n",
       "      <td>Yes</td>\n",
       "      <td>0</td>\n",
       "      <td>Others</td>\n",
       "      <td>Diabetes</td>\n",
       "      <td>Circulatory</td>\n",
       "    </tr>\n",
       "    <tr>\n",
       "      <th>3</th>\n",
       "      <td>Caucasian</td>\n",
       "      <td>Male</td>\n",
       "      <td>[40-50)</td>\n",
       "      <td>1</td>\n",
       "      <td>51</td>\n",
       "      <td>0</td>\n",
       "      <td>8</td>\n",
       "      <td>0</td>\n",
       "      <td>0</td>\n",
       "      <td>0</td>\n",
       "      <td>5</td>\n",
       "      <td>None</td>\n",
       "      <td>None</td>\n",
       "      <td>No</td>\n",
       "      <td>No</td>\n",
       "      <td>No</td>\n",
       "      <td>No</td>\n",
       "      <td>No</td>\n",
       "      <td>No</td>\n",
       "      <td>Steady</td>\n",
       "      <td>No</td>\n",
       "      <td>No</td>\n",
       "      <td>No</td>\n",
       "      <td>No</td>\n",
       "      <td>No</td>\n",
       "      <td>No</td>\n",
       "      <td>No</td>\n",
       "      <td>No</td>\n",
       "      <td>No</td>\n",
       "      <td>No</td>\n",
       "      <td>Steady</td>\n",
       "      <td>No</td>\n",
       "      <td>No</td>\n",
       "      <td>No</td>\n",
       "      <td>No</td>\n",
       "      <td>No</td>\n",
       "      <td>Ch</td>\n",
       "      <td>Yes</td>\n",
       "      <td>0</td>\n",
       "      <td>Neoplasms</td>\n",
       "      <td>Neoplasms</td>\n",
       "      <td>Others</td>\n",
       "    </tr>\n",
       "    <tr>\n",
       "      <th>4</th>\n",
       "      <td>Caucasian</td>\n",
       "      <td>Male</td>\n",
       "      <td>[50-60)</td>\n",
       "      <td>3</td>\n",
       "      <td>31</td>\n",
       "      <td>6</td>\n",
       "      <td>16</td>\n",
       "      <td>0</td>\n",
       "      <td>0</td>\n",
       "      <td>0</td>\n",
       "      <td>9</td>\n",
       "      <td>None</td>\n",
       "      <td>None</td>\n",
       "      <td>No</td>\n",
       "      <td>No</td>\n",
       "      <td>No</td>\n",
       "      <td>No</td>\n",
       "      <td>No</td>\n",
       "      <td>No</td>\n",
       "      <td>No</td>\n",
       "      <td>No</td>\n",
       "      <td>No</td>\n",
       "      <td>No</td>\n",
       "      <td>No</td>\n",
       "      <td>No</td>\n",
       "      <td>No</td>\n",
       "      <td>No</td>\n",
       "      <td>No</td>\n",
       "      <td>No</td>\n",
       "      <td>No</td>\n",
       "      <td>Steady</td>\n",
       "      <td>No</td>\n",
       "      <td>No</td>\n",
       "      <td>No</td>\n",
       "      <td>No</td>\n",
       "      <td>No</td>\n",
       "      <td>No</td>\n",
       "      <td>Yes</td>\n",
       "      <td>1</td>\n",
       "      <td>Circulatory</td>\n",
       "      <td>Circulatory</td>\n",
       "      <td>Others</td>\n",
       "    </tr>\n",
       "  </tbody>\n",
       "</table>\n",
       "</div>"
      ],
      "text/plain": [
       "              race  gender      age  time_in_hospital  num_lab_procedures  \\\n",
       "0  Caucasian        Female  [10-20)  3                 59                   \n",
       "1  AfricanAmerican  Female  [20-30)  2                 11                   \n",
       "2  Caucasian        Male    [30-40)  2                 44                   \n",
       "3  Caucasian        Male    [40-50)  1                 51                   \n",
       "4  Caucasian        Male    [50-60)  3                 31                   \n",
       "\n",
       "   num_procedures  num_medications  number_outpatient  number_emergency  \\\n",
       "0  0               18               0                  0                  \n",
       "1  5               13               2                  0                  \n",
       "2  1               16               0                  0                  \n",
       "3  0               8                0                  0                  \n",
       "4  6               16               0                  0                  \n",
       "\n",
       "   number_inpatient  number_diagnoses max_glu_serum A1Cresult metformin  \\\n",
       "0  0                 9                 None          None      No         \n",
       "1  1                 6                 None          None      No         \n",
       "2  0                 7                 None          None      No         \n",
       "3  0                 5                 None          None      No         \n",
       "4  0                 9                 None          None      No         \n",
       "\n",
       "  repaglinide nateglinide chlorpropamide glimepiride acetohexamide glipizide  \\\n",
       "0  No          No          No             No          No            No         \n",
       "1  No          No          No             No          No            Steady     \n",
       "2  No          No          No             No          No            No         \n",
       "3  No          No          No             No          No            Steady     \n",
       "4  No          No          No             No          No            No         \n",
       "\n",
       "  glyburide tolbutamide pioglitazone rosiglitazone acarbose miglitol  \\\n",
       "0  No        No          No           No            No       No        \n",
       "1  No        No          No           No            No       No        \n",
       "2  No        No          No           No            No       No        \n",
       "3  No        No          No           No            No       No        \n",
       "4  No        No          No           No            No       No        \n",
       "\n",
       "  troglitazone tolazamide examide citoglipton insulin glyburide-metformin  \\\n",
       "0  No           No         No      No          Up      No                   \n",
       "1  No           No         No      No          No      No                   \n",
       "2  No           No         No      No          Up      No                   \n",
       "3  No           No         No      No          Steady  No                   \n",
       "4  No           No         No      No          Steady  No                   \n",
       "\n",
       "  glipizide-metformin glimepiride-pioglitazone metformin-rosiglitazone  \\\n",
       "0  No                  No                       No                       \n",
       "1  No                  No                       No                       \n",
       "2  No                  No                       No                       \n",
       "3  No                  No                       No                       \n",
       "4  No                  No                       No                       \n",
       "\n",
       "  metformin-pioglitazone change diabetesMed  readmitted primary_diag  \\\n",
       "0  No                     Ch     Yes         1           Others        \n",
       "1  No                     No     Yes         0           Others        \n",
       "2  No                     Ch     Yes         0           Others        \n",
       "3  No                     Ch     Yes         0           Neoplasms     \n",
       "4  No                     No     Yes         1           Circulatory   \n",
       "\n",
       "  secondary_diag additional_diag  \n",
       "0  Diabetes       Others          \n",
       "1  Others         Others          \n",
       "2  Diabetes       Circulatory     \n",
       "3  Neoplasms      Others          \n",
       "4  Circulatory    Others          "
      ]
     },
     "execution_count": 27,
     "metadata": {},
     "output_type": "execute_result"
    }
   ],
   "source": [
    "df.head()"
   ]
  },
  {
   "cell_type": "code",
   "execution_count": 28,
   "metadata": {},
   "outputs": [
    {
     "data": {
      "text/plain": [
       "(68629, 42)"
      ]
     },
     "execution_count": 28,
     "metadata": {},
     "output_type": "execute_result"
    }
   ],
   "source": [
    "df.shape"
   ]
  },
  {
   "cell_type": "markdown",
   "metadata": {},
   "source": [
    "# Handling numerical and categorical features with pipelines"
   ]
  },
  {
   "cell_type": "markdown",
   "metadata": {},
   "source": [
    "Machine Learning algorithms mostly use numbers, so let's convert our category features into numbers using the `sklearn.preprocessing.OneHotEncoder` class. In addition, we also need to implement feature scaling for the numerical columns, which we can do by using the `sklearn.preprocessing.StandardScaler` class."
   ]
  },
  {
   "cell_type": "code",
   "execution_count": 29,
   "metadata": {},
   "outputs": [
    {
     "name": "stdout",
     "output_type": "stream",
     "text": [
      "Number of categorical features: 33\n"
     ]
    },
    {
     "data": {
      "text/plain": [
       "Index(['race', 'gender', 'age', 'max_glu_serum', 'A1Cresult', 'metformin',\n",
       "       'repaglinide', 'nateglinide', 'chlorpropamide', 'glimepiride',\n",
       "       'acetohexamide', 'glipizide', 'glyburide', 'tolbutamide',\n",
       "       'pioglitazone', 'rosiglitazone', 'acarbose', 'miglitol', 'troglitazone',\n",
       "       'tolazamide', 'examide', 'citoglipton', 'insulin',\n",
       "       'glyburide-metformin', 'glipizide-metformin',\n",
       "       'glimepiride-pioglitazone', 'metformin-rosiglitazone',\n",
       "       'metformin-pioglitazone', 'change', 'diabetesMed', 'primary_diag',\n",
       "       'secondary_diag', 'additional_diag'],\n",
       "      dtype='object')"
      ]
     },
     "execution_count": 29,
     "metadata": {},
     "output_type": "execute_result"
    }
   ],
   "source": [
    "print(f\"Number of categorical features: {len(df.select_dtypes('category').columns)}\")\n",
    "df.select_dtypes('category').columns"
   ]
  },
  {
   "cell_type": "code",
   "execution_count": 30,
   "metadata": {},
   "outputs": [],
   "source": [
    "cats_cols = list(df.select_dtypes('category').columns)"
   ]
  },
  {
   "cell_type": "code",
   "execution_count": 31,
   "metadata": {},
   "outputs": [
    {
     "name": "stdout",
     "output_type": "stream",
     "text": [
      "Number of numerical features: 9\n"
     ]
    },
    {
     "data": {
      "text/plain": [
       "Index(['time_in_hospital', 'num_lab_procedures', 'num_procedures',\n",
       "       'num_medications', 'number_outpatient', 'number_emergency',\n",
       "       'number_inpatient', 'number_diagnoses', 'readmitted'],\n",
       "      dtype='object')"
      ]
     },
     "execution_count": 31,
     "metadata": {},
     "output_type": "execute_result"
    }
   ],
   "source": [
    "print(f\"Number of numerical features: {len(df.select_dtypes('int64').columns)}\")\n",
    "df.select_dtypes('int64').columns"
   ]
  },
  {
   "cell_type": "markdown",
   "metadata": {},
   "source": [
    "We will place the `readmitted` column aside to use as our labels feature."
   ]
  },
  {
   "cell_type": "code",
   "execution_count": 32,
   "metadata": {},
   "outputs": [],
   "source": [
    "num_cols = list(set(df.select_dtypes('int64').columns) - set(['readmitted']))"
   ]
  },
  {
   "cell_type": "markdown",
   "metadata": {},
   "source": [
    "## Transformation pipeline"
   ]
  },
  {
   "cell_type": "markdown",
   "metadata": {},
   "source": [
    "Let's now build a pipeline with the `sklearn.pipeline` class that implements feature scaling for the numerical columns with `sklearn.preprocessing.StandardScaler` and one-hot encoding for the categorical features with the `sklearn.preprocessing.OneHotEncoder` class."
   ]
  },
  {
   "cell_type": "code",
   "execution_count": 33,
   "metadata": {},
   "outputs": [],
   "source": [
    "from sklearn.pipeline import Pipeline\n",
    "from sklearn.impute import SimpleImputer  # takes care of NaN values by replacing them with the median\n",
    "from sklearn.preprocessing import StandardScaler  # subtracts the mean and scales by the standard deviation\n",
    "from sklearn.preprocessing import OneHotEncoder\n",
    "from sklearn.compose import ColumnTransformer"
   ]
  },
  {
   "cell_type": "code",
   "execution_count": 34,
   "metadata": {},
   "outputs": [],
   "source": [
    "num_pipeline = Pipeline([('imputer', SimpleImputer(strategy='median')), ('std_scaler', StandardScaler())])"
   ]
  },
  {
   "cell_type": "code",
   "execution_count": 35,
   "metadata": {},
   "outputs": [],
   "source": [
    "full_pipeline = ColumnTransformer([('num', num_pipeline, num_cols), ('cat', OneHotEncoder(), cats_cols)])"
   ]
  },
  {
   "cell_type": "markdown",
   "metadata": {},
   "source": [
    "We are now ready to use the full pipeline on our data."
   ]
  },
  {
   "cell_type": "code",
   "execution_count": 36,
   "metadata": {},
   "outputs": [
    {
     "name": "stdout",
     "output_type": "stream",
     "text": [
      "Dimensions of X: (68629, 41)\n",
      "Dimensions of y: (68629,)\n"
     ]
    }
   ],
   "source": [
    "X = df.drop('readmitted', axis=1)\n",
    "y = df.loc[:, 'readmitted'].values.ravel()\n",
    "print(f'Dimensions of X: {X.shape}')\n",
    "print(f'Dimensions of y: {y.shape}')"
   ]
  },
  {
   "cell_type": "code",
   "execution_count": 37,
   "metadata": {},
   "outputs": [
    {
     "data": {
      "text/plain": [
       "Index(['race', 'gender', 'age', 'time_in_hospital', 'num_lab_procedures',\n",
       "       'num_procedures', 'num_medications', 'number_outpatient',\n",
       "       'number_emergency', 'number_inpatient', 'number_diagnoses',\n",
       "       'max_glu_serum', 'A1Cresult', 'metformin', 'repaglinide', 'nateglinide',\n",
       "       'chlorpropamide', 'glimepiride', 'acetohexamide', 'glipizide',\n",
       "       'glyburide', 'tolbutamide', 'pioglitazone', 'rosiglitazone', 'acarbose',\n",
       "       'miglitol', 'troglitazone', 'tolazamide', 'examide', 'citoglipton',\n",
       "       'insulin', 'glyburide-metformin', 'glipizide-metformin',\n",
       "       'glimepiride-pioglitazone', 'metformin-rosiglitazone',\n",
       "       'metformin-pioglitazone', 'change', 'diabetesMed', 'primary_diag',\n",
       "       'secondary_diag', 'additional_diag'],\n",
       "      dtype='object')"
      ]
     },
     "execution_count": 37,
     "metadata": {},
     "output_type": "execute_result"
    }
   ],
   "source": [
    "X.columns"
   ]
  },
  {
   "cell_type": "code",
   "execution_count": 38,
   "metadata": {},
   "outputs": [
    {
     "data": {
      "text/plain": [
       "(68629, 131)"
      ]
     },
     "execution_count": 38,
     "metadata": {},
     "output_type": "execute_result"
    }
   ],
   "source": [
    "X_prepared = full_pipeline.fit_transform(X)\n",
    "X_prepared.shape"
   ]
  },
  {
   "cell_type": "markdown",
   "metadata": {},
   "source": [
    "# Selecting and training a model"
   ]
  },
  {
   "cell_type": "code",
   "execution_count": 39,
   "metadata": {},
   "outputs": [],
   "source": [
    "from sklearn.model_selection import train_test_split\n",
    "X_train, X_test, y_train, y_test = train_test_split(X_prepared, y, test_size = 0.3, random_state=42)"
   ]
  },
  {
   "cell_type": "code",
   "execution_count": 40,
   "metadata": {},
   "outputs": [
    {
     "name": "stdout",
     "output_type": "stream",
     "text": [
      "X_train: (48040, 131)\n",
      "X_test: (20589, 131)\n",
      "y_train: (48040,)\n",
      "y_test: (20589,)\n"
     ]
    }
   ],
   "source": [
    "print(f'X_train: {X_train.shape}\\nX_test: {X_test.shape}\\ny_train: {y_train.shape}\\ny_test: {y_test.shape}')"
   ]
  },
  {
   "cell_type": "markdown",
   "metadata": {},
   "source": [
    "## Model pipeline"
   ]
  },
  {
   "cell_type": "code",
   "execution_count": 41,
   "metadata": {},
   "outputs": [],
   "source": [
    "from sklearn.linear_model import LogisticRegression\n",
    "from sklearn.tree import DecisionTreeClassifier\n",
    "from sklearn.ensemble import RandomForestClassifier\n",
    "# from sklearn.svm import SVC"
   ]
  },
  {
   "cell_type": "code",
   "execution_count": 42,
   "metadata": {},
   "outputs": [],
   "source": [
    "model_dict = {'Logistic regression': LogisticRegression(solver='newton-cg', n_jobs=1), \n",
    "              'Decision tree classifier': DecisionTreeClassifier(), \\\n",
    "              'Random forest classifier': RandomForestClassifier(n_jobs=-1, n_estimators=100)}\n",
    "# 'Support vector classifier': SVC(kernel='linear', gamma='auto', verbose=True, max_iter=1000)"
   ]
  },
  {
   "cell_type": "code",
   "execution_count": 43,
   "metadata": {},
   "outputs": [
    {
     "name": "stdout",
     "output_type": "stream",
     "text": [
      "Accuracy of the logistic regression on test set: 0.627\n",
      "Accuracy of the decision tree classifier on test set: 0.547\n",
      "Accuracy of the random forest classifier on test set: 0.617\n",
      "Time elapsed: 7.01 seconds\n"
     ]
    }
   ],
   "source": [
    "from time import time\n",
    "t0 = time()\n",
    "y_pred_results = []\n",
    "y_pred_proba_results = []\n",
    "for name, model in model_dict.items():\n",
    "    model.fit(X_train, y_train)\n",
    "    y_pred = model.predict(X_test)\n",
    "    y_pred_results.append(y_pred)\n",
    "    y_pred_proba = model.predict_proba(X_test)\n",
    "    y_pred_proba_results.append(y_pred_proba)\n",
    "    print(f'Accuracy of the {name.lower()} on test set: {model.score(X_test, y_test):.3f}')\n",
    "print(f'Time elapsed: {(time() - t0):.2f} seconds')"
   ]
  },
  {
   "cell_type": "markdown",
   "metadata": {},
   "source": [
    "### Mean squared error on test set"
   ]
  },
  {
   "cell_type": "code",
   "execution_count": 44,
   "metadata": {},
   "outputs": [
    {
     "name": "stdout",
     "output_type": "stream",
     "text": [
      "Root mean squared error on test set with logistic regression model: 0.611\n",
      "Root mean squared error on test set with decision tree classifier model: 0.673\n",
      "Root mean squared error on test set with random forest classifier model: 0.619\n"
     ]
    }
   ],
   "source": [
    "from sklearn.metrics import mean_squared_error\n",
    "for (name, model), y_pred in zip(model_dict.items(), y_pred_results):\n",
    "    mse = mean_squared_error(y_test, y_pred)\n",
    "    print(f'Root mean squared error on test set with {name.lower()} model: {np.sqrt(mse):.3f}')"
   ]
  },
  {
   "cell_type": "markdown",
   "metadata": {},
   "source": [
    "### Confusion matrix\n",
    "\n",
    "As explained in scikit-learn at ['sklearn.metrics.confusion_matrix'](https://scikit-learn.org/stable/modules/generated/sklearn.metrics.confusion_matrix.html):\n",
    "\n",
    " - a confusion matrix `C` is such that `C[i, j]` is equal to the number of observations known to be in group `i` but predicted to be in group `j`.\n",
    "\n",
    "Thus in binary classification, the count of true negatives is `C[0, 0]`, false negatives is `C[1, 0]`, true positives is `C[1, 1]` and false positives is `C[0, 1]`."
   ]
  },
  {
   "cell_type": "code",
   "execution_count": 45,
   "metadata": {},
   "outputs": [
    {
     "name": "stdout",
     "output_type": "stream",
     "text": [
      "Confusion matrix on logistic regression model: \n",
      "[[10917  1372]\n",
      " [ 6306  1994]]\n",
      "\n",
      "Confusion matrix on decision tree classifier model: \n",
      "[[7570 4719]\n",
      " [4601 3699]]\n",
      "\n",
      "Confusion matrix on random forest classifier model: \n",
      "[[10276  2013]\n",
      " [ 5873  2427]]\n",
      "\n"
     ]
    }
   ],
   "source": [
    "from sklearn.metrics import confusion_matrix\n",
    "for (name, model), y_pred in zip(model_dict.items(), y_pred_results):\n",
    "    cm = confusion_matrix(y_test, y_pred)\n",
    "    print(f'Confusion matrix on {name.lower()} model: \\n{cm}\\n')"
   ]
  },
  {
   "cell_type": "markdown",
   "metadata": {},
   "source": [
    "### Precision, recall, F-measure and support"
   ]
  },
  {
   "cell_type": "markdown",
   "metadata": {},
   "source": [
    "As defined in scikit-learn at ['sklearn.metrics.precision_recall_fscore_support'](https://scikit-learn.org/stable/modules/generated/sklearn.metrics.precision_recall_fscore_support.html):\n",
    "\n",
    " - the precision is the ratio `tp / (tp + fp)` where `tp` is the number of true positives and `fp` the number of false positives. The precision is intuitively the ability of the classifier to not label a sample as positive if it is negative.\n",
    "\n",
    " - the recall is the ratio `tp / (tp + fn)` where `tp` is the number of true positives and `fn` the number of false negatives. The recall is intuitively the ability of the classifier to find all the positive samples.\n",
    "\n",
    " - the `F-beta` score can be interpreted as a weighted harmonic mean of the precision and recall, where an `F-beta` score reaches its best value at 1 and worst score at 0.\n",
    "\n",
    " - the `F-beta` score weights the recall more than the precision by a factor of `beta`. `beta = 1.0` means recall and precision are equally important.\n",
    "\n",
    " - the support is the number of occurrences of each class in `y_test`."
   ]
  },
  {
   "cell_type": "code",
   "execution_count": 46,
   "metadata": {},
   "outputs": [
    {
     "name": "stdout",
     "output_type": "stream",
     "text": [
      "Precision, recall, F-measure and support on the logistic regression model: \n",
      "              precision    recall  f1-score   support\n",
      "\n",
      "           0       0.63      0.89      0.74     12289\n",
      "           1       0.59      0.24      0.34      8300\n",
      "\n",
      "    accuracy                           0.63     20589\n",
      "   macro avg       0.61      0.56      0.54     20589\n",
      "weighted avg       0.62      0.63      0.58     20589\n",
      "\n",
      "\n",
      "Precision, recall, F-measure and support on the decision tree classifier model: \n",
      "              precision    recall  f1-score   support\n",
      "\n",
      "           0       0.62      0.62      0.62     12289\n",
      "           1       0.44      0.45      0.44      8300\n",
      "\n",
      "    accuracy                           0.55     20589\n",
      "   macro avg       0.53      0.53      0.53     20589\n",
      "weighted avg       0.55      0.55      0.55     20589\n",
      "\n",
      "\n",
      "Precision, recall, F-measure and support on the random forest classifier model: \n",
      "              precision    recall  f1-score   support\n",
      "\n",
      "           0       0.64      0.84      0.72     12289\n",
      "           1       0.55      0.29      0.38      8300\n",
      "\n",
      "    accuracy                           0.62     20589\n",
      "   macro avg       0.59      0.56      0.55     20589\n",
      "weighted avg       0.60      0.62      0.58     20589\n",
      "\n",
      "\n"
     ]
    }
   ],
   "source": [
    "from sklearn.metrics import classification_report\n",
    "for (name, model), y_pred in zip(model_dict.items(), y_pred_results):\n",
    "    class_report = classification_report(y_test, y_pred)\n",
    "    print(f'Precision, recall, F-measure and support on the {name.lower()} model: \\n{class_report}\\n')"
   ]
  },
  {
   "cell_type": "markdown",
   "metadata": {},
   "source": [
    "### ROC curve"
   ]
  },
  {
   "cell_type": "code",
   "execution_count": 47,
   "metadata": {},
   "outputs": [],
   "source": [
    "from sklearn.metrics import roc_auc_score\n",
    "from sklearn.metrics import roc_curve"
   ]
  },
  {
   "cell_type": "code",
   "execution_count": 48,
   "metadata": {},
   "outputs": [
    {
     "name": "stdout",
     "output_type": "stream",
     "text": [
      "Number of fpr: 9331\n",
      "Number of tpr: 9331\n",
      "Number of thresholds: 9331\n",
      "\n",
      "Number of fpr: 3\n",
      "Number of tpr: 3\n",
      "Number of thresholds: 3\n",
      "\n",
      "Number of fpr: 86\n",
      "Number of tpr: 86\n",
      "Number of thresholds: 86\n",
      "\n"
     ]
    },
    {
     "data": {
      "image/png": "[encoded data removed]",
      "text/plain": [
       "<Figure size 720x576 with 1 Axes>"
      ]
     },
     "metadata": {
      "needs_background": "light"
     },
     "output_type": "display_data"
    },
    {
     "data": {
      "image/png": "[encoded data removed]",
      "text/plain": [
       "<Figure size 720x576 with 1 Axes>"
      ]
     },
     "metadata": {
      "needs_background": "light"
     },
     "output_type": "display_data"
    },
    {
     "data": {
      "image/png": "[encoded data removed]",
      "text/plain": [
       "<Figure size 720x576 with 1 Axes>"
      ]
     },
     "metadata": {
      "needs_background": "light"
     },
     "output_type": "display_data"
    }
   ],
   "source": [
    "for (name, model), y_pred, y_pred_proba in zip(model_dict.items(), y_pred_results, y_pred_proba_results):\n",
    "    model_roc_auc = roc_auc_score(y_test, y_pred)\n",
    "    fpr, tpr, thresholds = roc_curve(y_test, y_pred_proba[:,1])\n",
    "    print(f'Number of fpr: {len(fpr)}\\nNumber of tpr: {len(tpr)}\\nNumber of thresholds: {len(thresholds)}\\n')\n",
    "    fig, axes = plt.subplots(figsize=(10, 8))\n",
    "    axes.plot(fpr, tpr, marker='.', ms=6, \\\n",
    "              label='Model: {0:s}, Regression (area = {1:.2f})'.format(name.lower(), model_roc_auc))\n",
    "    axes.plot([0, 1], [0, 1],'r--')\n",
    "    axes.set_xlim([0.0, 1.0])\n",
    "    axes.set_ylim([0.0, 1.05])\n",
    "    axes.set_xlabel('False Positive Rate')\n",
    "    axes.set_ylabel('True Positive Rate')\n",
    "    axes.set_title('Receiver operating characteristic for {0:s} model'.format(name.lower()))\n",
    "    axes.legend(loc=\"lower right\")\n",
    "    plt.grid(True, linestyle='--');"
   ]
  },
  {
   "cell_type": "markdown",
   "metadata": {},
   "source": [
    "## Cross validation"
   ]
  },
  {
   "cell_type": "code",
   "execution_count": 80,
   "metadata": {},
   "outputs": [],
   "source": [
    "from sklearn.model_selection import cross_val_score\n",
    "def display_scores(model, scores):\n",
    "    print(f'Cross validation for the {model.lower()} model:')\n",
    "#     print(f'Scores: {scores}')\n",
    "    print(f'Mean: {scores.mean():.4f}')\n",
    "    print(f'Standard devation: {scores.std():.4f}\\n')"
   ]
  },
  {
   "cell_type": "code",
   "execution_count": 83,
   "metadata": {},
   "outputs": [
    {
     "name": "stdout",
     "output_type": "stream",
     "text": [
      "Cross validation for the logistic regression model:\n",
      "Mean: 0.3729\n",
      "Standard devation: 0.0087\n",
      "\n",
      "Cross validation for the decision tree classifier model:\n",
      "Mean: 0.4031\n",
      "Standard devation: 0.0001\n",
      "\n",
      "Cross validation for the random forest classifier model:\n",
      "Mean: 0.3830\n",
      "Standard devation: 0.0099\n",
      "\n",
      "Time elapsed: 1.02 seconds\n"
     ]
    }
   ],
   "source": [
    "from time import time\n",
    "t0 = time()\n",
    "for (name, model), y_pred in zip(model_dict.items(), y_pred_results):\n",
    "    scores = cross_val_score(model, y_pred.reshape(-1, 1), y_test, scoring='neg_mean_squared_error', cv=10, n_jobs=-1)\n",
    "    display_scores(name, -scores)\n",
    "print(f'Time elapsed: {(time() - t0):.2f} seconds')"
   ]
  },
  {
   "cell_type": "code",
   "execution_count": null,
   "metadata": {},
   "outputs": [],
   "source": []
  }
 ],
 "metadata": {
  "kernelspec": {
   "display_name": "Python 3",
   "language": "python",
   "name": "python3"
  },
  "language_info": {
   "codemirror_mode": {
    "name": "ipython",
    "version": 3
   },
   "file_extension": ".py",
   "mimetype": "text/x-python",
   "name": "python",
   "nbconvert_exporter": "python",
   "pygments_lexer": "ipython3",
   "version": "3.7.3"
  }
 },
 "nbformat": 4,
 "nbformat_minor": 2
}
